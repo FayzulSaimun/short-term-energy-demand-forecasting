{
 "cells": [
  {
   "cell_type": "markdown",
   "metadata": {},
   "source": [
    "# Data Analysis\n",
    "\n",
    "\n",
    "Summary of problem definition points to investigate. \n",
    "1. Inputs vs. Outputs: What are the inputs and outputs for a forecast?\n",
    "2. Endogenous vs. Exogenous: What are the endogenous and exogenous variables?\n",
    "3. Unstructured vs. Structured: Are the time series variables unstructured or structured?\n",
    "4. Regression vs. Classification: Are you working on a regression or classification predictive modeling problem? What are some alternate ways to frame your time series forecasting problem?\n",
    "5. Univariate vs. Multivariate: Are you working on a univariate or multivariate time series problem?\n",
    "6. Single-step vs. Multi-step: Do you require a single-step or a multi-step forecast?\n",
    "7. Static vs. Dynamic: Do you require a static or a dynamically updated model?\n",
    "8. Contiguous vs. Discontiguous: Are your observations contiguous or discontiguous?\n"
   ]
  },
  {
   "cell_type": "code",
   "execution_count": null,
   "metadata": {},
   "outputs": [],
   "source": []
  }
 ],
 "metadata": {
  "kernelspec": {
   "display_name": "Python 3",
   "language": "python",
   "name": "python3"
  },
  "language_info": {
   "codemirror_mode": {
    "name": "ipython",
    "version": 3
   },
   "file_extension": ".py",
   "mimetype": "text/x-python",
   "name": "python",
   "nbconvert_exporter": "python",
   "pygments_lexer": "ipython3",
   "version": "3.6.9"
  }
 },
 "nbformat": 4,
 "nbformat_minor": 2
}
