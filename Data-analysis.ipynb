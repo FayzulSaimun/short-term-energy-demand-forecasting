{
 "cells": [
  {
   "cell_type": "markdown",
   "metadata": {},
   "source": [
    "# Analysis and Feature Selection\n",
    "\n",
    "This notebook will analyise the energy load data used for the model. A contents of the analysis contained is described below.\n",
    "\n",
    "## Analysis of energy load data\n",
    "1. Plot the energy load data as a whole\n",
    "    - Yearly line plot / box plot\n",
    "    - Grouped by months line plot / box plot\n",
    "    - Grouped by days of the week mean / box plot\n",
    "    \n",
    "2. Repeat section 1 with each of the hourly slices.\n",
    "    - Divided by year line plot / box plot\n",
    "    - Grouped by months line plot / box plot\n",
    "    - Grouped by days of the week mean / box plot\n",
    "\n",
    "3. Investigate stationarity of hourly segments\n",
    "    - Why look at indivdual segments?\n",
    "    - Plot of the distributions\n",
    "    - Skew and kurtosis tests for normality + explanation of what this means\n",
    "    - Augmented Dicky Fuller test per hourly segment + as a whole\n",
    "    - Autoregressive plot and partial auto regressive plot (hourly + as a whole)\n",
    "    - Differencing in preparation for modelling with ARIMAX \n",
    "\n",
    "## Analysis of features\n",
    "1. Plots of weather temperature/humidity versus consumption\n",
    "    - Yearly line plot\n",
    "2. Plots of moving averages\n",
    "    - MA 7, 14, 21, etc.\n",
    "    - Multi plot of MAs for each hourly timeslice\n",
    "3. Correlation plots of:\n",
    "    - heat maps + pairplots\n",
    "    - Autoregressive features + moving averages\n",
    "    - Weather predictors\n",
    "\n",
    "\n",
    "\n",
    "\n",
    "\n",
    "\n",
    "\n",
    "\n",
    "\n",
    "Summary of problem definition points to investigate. \n",
    "1. Inputs vs. Outputs: What are the inputs and outputs for a forecast?\n",
    "2. Endogenous vs. Exogenous: What are the endogenous and exogenous variables?\n",
    "3. Unstructured vs. Structured: Are the time series variables unstructured or structured?\n",
    "4. Regression vs. Classification: Are you working on a regression or classification predictive modeling problem? What are some alternate ways to frame your time series forecasting problem?\n",
    "5. Univariate vs. Multivariate: Are you working on a univariate or multivariate time series problem?\n",
    "6. Single-step vs. Multi-step: Do you require a single-step or a multi-step forecast?\n",
    "7. Static vs. Dynamic: Do you require a static or a dynamically updated model?\n",
    "8. Contiguous vs. Discontiguous: Are your observations contiguous or discontiguous?\n"
   ]
  },
  {
   "cell_type": "code",
   "execution_count": null,
   "metadata": {},
   "outputs": [],
   "source": []
  },
  {
   "cell_type": "code",
   "execution_count": null,
   "metadata": {},
   "outputs": [],
   "source": []
  },
  {
   "cell_type": "code",
   "execution_count": null,
   "metadata": {},
   "outputs": [],
   "source": []
  },
  {
   "cell_type": "markdown",
   "metadata": {},
   "source": [
    "A time series is said to be stationary if it doesn’t increase or decrease with time linearly or exponentially(no trends), and if it doesn’t show any kind of repeating patterns(no seasonality)"
   ]
  },
  {
   "cell_type": "code",
   "execution_count": null,
   "metadata": {},
   "outputs": [],
   "source": []
  }
 ],
 "metadata": {
  "kernelspec": {
   "display_name": "Python 3",
   "language": "python",
   "name": "python3"
  },
  "language_info": {
   "codemirror_mode": {
    "name": "ipython",
    "version": 3
   },
   "file_extension": ".py",
   "mimetype": "text/x-python",
   "name": "python",
   "nbconvert_exporter": "python",
   "pygments_lexer": "ipython3",
   "version": "3.6.9"
  }
 },
 "nbformat": 4,
 "nbformat_minor": 2
}
