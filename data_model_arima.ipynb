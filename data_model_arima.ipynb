{
 "cells": [
  {
   "cell_type": "markdown",
   "metadata": {},
   "source": [
    "# Classic timeseries models"
   ]
  },
  {
   "cell_type": "markdown",
   "metadata": {},
   "source": [
    "The purpose of the naive models are to form a benchmark for performance. This allows us to compare the performance of feature engineering, hyperparameter tuning, and model architecture against a set of references.\n",
    "\n",
    "\n",
    "### Test Harness: Walk forward validation\n",
    "A test rig is a naive implementation of the prediction model. In this notebook univariate and multivariate rigs are deployed as benchmarks for improvement in predictions.\n",
    "\n",
    "Naive univariate models are deployed using only the most recent data point in time to predict the next. I.e. t-1 = t. \n",
    "\n",
    "Multivariate models are deployed using all available feature vectors as predictors.  \n",
    "\n",
    "\n",
    "#### Classic Prediction Models\n",
    "- Naive Model\n",
    "- Moving Averages\n",
    "- ARIMA"
   ]
  },
  {
   "cell_type": "code",
   "execution_count": 11,
   "metadata": {},
   "outputs": [],
   "source": [
    "#import required packages\n",
    "import numpy as np\n",
    "import pandas as pd\n",
    "from tensorflow.keras import metrics\n",
    "import matplotlib.pyplot as plt\n",
    "import seaborn as sns\n",
    "%matplotlib inline\n",
    "sns.set_style('dark')"
   ]
  },
  {
   "cell_type": "code",
   "execution_count": 2,
   "metadata": {},
   "outputs": [
    {
     "data": {
      "text/html": [
       "<div>\n",
       "<style scoped>\n",
       "    .dataframe tbody tr th:only-of-type {\n",
       "        vertical-align: middle;\n",
       "    }\n",
       "\n",
       "    .dataframe tbody tr th {\n",
       "        vertical-align: top;\n",
       "    }\n",
       "\n",
       "    .dataframe thead th {\n",
       "        text-align: right;\n",
       "    }\n",
       "</style>\n",
       "<table border=\"1\" class=\"dataframe\">\n",
       "  <thead>\n",
       "    <tr style=\"text-align: right;\">\n",
       "      <th></th>\n",
       "      <th>t-0 h_0</th>\n",
       "      <th>t-1 h_0</th>\n",
       "    </tr>\n",
       "  </thead>\n",
       "  <tbody>\n",
       "    <tr>\n",
       "      <th>0</th>\n",
       "      <td>25833.0</td>\n",
       "      <td>27662.0</td>\n",
       "    </tr>\n",
       "    <tr>\n",
       "      <th>1</th>\n",
       "      <td>22113.0</td>\n",
       "      <td>25833.0</td>\n",
       "    </tr>\n",
       "    <tr>\n",
       "      <th>2</th>\n",
       "      <td>26810.0</td>\n",
       "      <td>22113.0</td>\n",
       "    </tr>\n",
       "    <tr>\n",
       "      <th>3</th>\n",
       "      <td>27578.0</td>\n",
       "      <td>26810.0</td>\n",
       "    </tr>\n",
       "    <tr>\n",
       "      <th>4</th>\n",
       "      <td>26897.0</td>\n",
       "      <td>27578.0</td>\n",
       "    </tr>\n",
       "  </tbody>\n",
       "</table>\n",
       "</div>"
      ],
      "text/plain": [
       "   t-0 h_0  t-1 h_0\n",
       "0  25833.0  27662.0\n",
       "1  22113.0  25833.0\n",
       "2  26810.0  22113.0\n",
       "3  27578.0  26810.0\n",
       "4  26897.0  27578.0"
      ]
     },
     "execution_count": 2,
     "metadata": {},
     "output_type": "execute_result"
    }
   ],
   "source": [
    "#load the preprocessed data\n",
    "data = pd.read_csv('./data/processed/transformed_2016_2018.csv')\n",
    "\n",
    "#investigate features for h_0\n",
    "#y-hat is columns from t-0\n",
    "data[['t-0 h_0','t-1 h_0']].head()"
   ]
  },
  {
   "cell_type": "markdown",
   "metadata": {},
   "source": [
    "#### Dataset creation"
   ]
  },
  {
   "cell_type": "code",
   "execution_count": 43,
   "metadata": {},
   "outputs": [
    {
     "data": {
      "text/html": [
       "<div>\n",
       "<style scoped>\n",
       "    .dataframe tbody tr th:only-of-type {\n",
       "        vertical-align: middle;\n",
       "    }\n",
       "\n",
       "    .dataframe tbody tr th {\n",
       "        vertical-align: top;\n",
       "    }\n",
       "\n",
       "    .dataframe thead th {\n",
       "        text-align: right;\n",
       "    }\n",
       "</style>\n",
       "<table border=\"1\" class=\"dataframe\">\n",
       "  <thead>\n",
       "    <tr style=\"text-align: right;\">\n",
       "      <th></th>\n",
       "      <th>date</th>\n",
       "      <th>t-0 h_0</th>\n",
       "      <th>t-0 h_1</th>\n",
       "      <th>t-0 h_2</th>\n",
       "      <th>t-0 h_3</th>\n",
       "      <th>t-0 h_4</th>\n",
       "      <th>t-0 h_5</th>\n",
       "      <th>t-0 h_6</th>\n",
       "      <th>t-0 h_7</th>\n",
       "      <th>t-0 h_8</th>\n",
       "      <th>...</th>\n",
       "      <th>t-30 h_14</th>\n",
       "      <th>t-30 h_15</th>\n",
       "      <th>t-30 h_16</th>\n",
       "      <th>t-30 h_17</th>\n",
       "      <th>t-30 h_18</th>\n",
       "      <th>t-30 h_19</th>\n",
       "      <th>t-30 h_20</th>\n",
       "      <th>t-30 h_21</th>\n",
       "      <th>t-30 h_22</th>\n",
       "      <th>t-30 h_23</th>\n",
       "    </tr>\n",
       "  </thead>\n",
       "  <tbody>\n",
       "    <tr>\n",
       "      <th>0</th>\n",
       "      <td>2016-01-31</td>\n",
       "      <td>25833.0</td>\n",
       "      <td>23820.0</td>\n",
       "      <td>22863.0</td>\n",
       "      <td>22056.0</td>\n",
       "      <td>21622.0</td>\n",
       "      <td>21588.0</td>\n",
       "      <td>21940.0</td>\n",
       "      <td>22543.0</td>\n",
       "      <td>23143.0</td>\n",
       "      <td>...</td>\n",
       "      <td>23265.0</td>\n",
       "      <td>22061.0</td>\n",
       "      <td>21481.0</td>\n",
       "      <td>21830.0</td>\n",
       "      <td>24291.0</td>\n",
       "      <td>25234.0</td>\n",
       "      <td>25881.0</td>\n",
       "      <td>26149.0</td>\n",
       "      <td>25610.0</td>\n",
       "      <td>24000.0</td>\n",
       "    </tr>\n",
       "    <tr>\n",
       "      <th>1</th>\n",
       "      <td>2016-02-01</td>\n",
       "      <td>22113.0</td>\n",
       "      <td>20515.0</td>\n",
       "      <td>19284.0</td>\n",
       "      <td>18637.0</td>\n",
       "      <td>18352.0</td>\n",
       "      <td>18574.0</td>\n",
       "      <td>19751.0</td>\n",
       "      <td>20857.0</td>\n",
       "      <td>22156.0</td>\n",
       "      <td>...</td>\n",
       "      <td>32099.0</td>\n",
       "      <td>31449.0</td>\n",
       "      <td>31179.0</td>\n",
       "      <td>31175.0</td>\n",
       "      <td>32515.0</td>\n",
       "      <td>34967.0</td>\n",
       "      <td>35381.0</td>\n",
       "      <td>34700.0</td>\n",
       "      <td>32055.0</td>\n",
       "      <td>28939.0</td>\n",
       "    </tr>\n",
       "    <tr>\n",
       "      <th>2</th>\n",
       "      <td>2016-02-02</td>\n",
       "      <td>26810.0</td>\n",
       "      <td>24903.0</td>\n",
       "      <td>23819.0</td>\n",
       "      <td>23418.0</td>\n",
       "      <td>23240.0</td>\n",
       "      <td>23890.0</td>\n",
       "      <td>26441.0</td>\n",
       "      <td>30975.0</td>\n",
       "      <td>33582.0</td>\n",
       "      <td>...</td>\n",
       "      <td>33029.0</td>\n",
       "      <td>32344.0</td>\n",
       "      <td>31927.0</td>\n",
       "      <td>31824.0</td>\n",
       "      <td>32226.0</td>\n",
       "      <td>35161.0</td>\n",
       "      <td>36599.0</td>\n",
       "      <td>35729.0</td>\n",
       "      <td>33154.0</td>\n",
       "      <td>29838.0</td>\n",
       "    </tr>\n",
       "    <tr>\n",
       "      <th>3</th>\n",
       "      <td>2016-02-03</td>\n",
       "      <td>27578.0</td>\n",
       "      <td>25540.0</td>\n",
       "      <td>24448.0</td>\n",
       "      <td>23929.0</td>\n",
       "      <td>23895.0</td>\n",
       "      <td>24570.0</td>\n",
       "      <td>27320.0</td>\n",
       "      <td>31510.0</td>\n",
       "      <td>34134.0</td>\n",
       "      <td>...</td>\n",
       "      <td>31594.0</td>\n",
       "      <td>30376.0</td>\n",
       "      <td>29915.0</td>\n",
       "      <td>29633.0</td>\n",
       "      <td>29158.0</td>\n",
       "      <td>29159.0</td>\n",
       "      <td>30469.0</td>\n",
       "      <td>32482.0</td>\n",
       "      <td>30508.0</td>\n",
       "      <td>28598.0</td>\n",
       "    </tr>\n",
       "    <tr>\n",
       "      <th>4</th>\n",
       "      <td>2016-02-04</td>\n",
       "      <td>26897.0</td>\n",
       "      <td>25029.0</td>\n",
       "      <td>23563.0</td>\n",
       "      <td>22858.0</td>\n",
       "      <td>22426.0</td>\n",
       "      <td>22230.0</td>\n",
       "      <td>22885.0</td>\n",
       "      <td>24204.0</td>\n",
       "      <td>25201.0</td>\n",
       "      <td>...</td>\n",
       "      <td>23378.0</td>\n",
       "      <td>22190.0</td>\n",
       "      <td>21549.0</td>\n",
       "      <td>21233.0</td>\n",
       "      <td>21298.0</td>\n",
       "      <td>21756.0</td>\n",
       "      <td>22929.0</td>\n",
       "      <td>25815.0</td>\n",
       "      <td>25843.0</td>\n",
       "      <td>24167.0</td>\n",
       "    </tr>\n",
       "  </tbody>\n",
       "</table>\n",
       "<p>5 rows × 169 columns</p>\n",
       "</div>"
      ],
      "text/plain": [
       "         date  t-0 h_0  t-0 h_1  t-0 h_2  t-0 h_3  t-0 h_4  t-0 h_5  t-0 h_6  \\\n",
       "0  2016-01-31  25833.0  23820.0  22863.0  22056.0  21622.0  21588.0  21940.0   \n",
       "1  2016-02-01  22113.0  20515.0  19284.0  18637.0  18352.0  18574.0  19751.0   \n",
       "2  2016-02-02  26810.0  24903.0  23819.0  23418.0  23240.0  23890.0  26441.0   \n",
       "3  2016-02-03  27578.0  25540.0  24448.0  23929.0  23895.0  24570.0  27320.0   \n",
       "4  2016-02-04  26897.0  25029.0  23563.0  22858.0  22426.0  22230.0  22885.0   \n",
       "\n",
       "   t-0 h_7  t-0 h_8  ...  t-30 h_14  t-30 h_15  t-30 h_16  t-30 h_17  \\\n",
       "0  22543.0  23143.0  ...    23265.0    22061.0    21481.0    21830.0   \n",
       "1  20857.0  22156.0  ...    32099.0    31449.0    31179.0    31175.0   \n",
       "2  30975.0  33582.0  ...    33029.0    32344.0    31927.0    31824.0   \n",
       "3  31510.0  34134.0  ...    31594.0    30376.0    29915.0    29633.0   \n",
       "4  24204.0  25201.0  ...    23378.0    22190.0    21549.0    21233.0   \n",
       "\n",
       "   t-30 h_18  t-30 h_19  t-30 h_20  t-30 h_21  t-30 h_22  t-30 h_23  \n",
       "0    24291.0    25234.0    25881.0    26149.0    25610.0    24000.0  \n",
       "1    32515.0    34967.0    35381.0    34700.0    32055.0    28939.0  \n",
       "2    32226.0    35161.0    36599.0    35729.0    33154.0    29838.0  \n",
       "3    29158.0    29159.0    30469.0    32482.0    30508.0    28598.0  \n",
       "4    21298.0    21756.0    22929.0    25815.0    25843.0    24167.0  \n",
       "\n",
       "[5 rows x 169 columns]"
      ]
     },
     "execution_count": 43,
     "metadata": {},
     "output_type": "execute_result"
    }
   ],
   "source": [
    "data.head()"
   ]
  },
  {
   "cell_type": "code",
   "execution_count": 3,
   "metadata": {},
   "outputs": [],
   "source": [
    "def set_X_Y_features(data, y_target='t-0', univariate=False):\n",
    "    \"\"\"\n",
    "    Function that takes in the preprocessed data and returns the Y and X datasets for univariate and multivariate test harnesses.\n",
    "    \n",
    "    \"\"\"\n",
    "    \n",
    "    #if univariate is called, the function returns the current time step, and the previous time step.\n",
    "    if univariate:\n",
    "        y_target='t-0'\n",
    "        #select the column headers to build Y matrix\n",
    "        Y_cols = [col for col in data.columns if y_target == col.split()[0]]\n",
    "        \n",
    "        x_targets = 't-1'\n",
    "        #selects the columns headers to build feature vectors of X\n",
    "        X_cols = [col for col in data.columns if x_targets == col.split()[0]]\n",
    "    \n",
    "    #if not univariate then X and Y return the multivariate case with all features\n",
    "    else:\n",
    "        #function is incomplete here. following two rows are wrong!!!\n",
    "        Y_cols = [col for col in data.columns if y_target == col.split()[0]]\n",
    "        \n",
    "        X_cols = [col for col in data.columns if y_target == col.split()[0]]\n",
    "        \n",
    "    #convert dataframe into numpy array\n",
    "    Y = np.array(data[Y_cols])\n",
    "    \n",
    "    X = np.array(data[X_cols])\n",
    "    \n",
    "    return X, Y"
   ]
  },
  {
   "cell_type": "code",
   "execution_count": 32,
   "metadata": {},
   "outputs": [
    {
     "data": {
      "text/plain": [
       "((1066, 24), (1066, 24))"
      ]
     },
     "execution_count": 32,
     "metadata": {},
     "output_type": "execute_result"
    }
   ],
   "source": [
    "X_naive, Y_naive = set_X_Y_features(data, univariate=True)\n",
    "X_naive.shape, Y_naive.shape"
   ]
  },
  {
   "cell_type": "markdown",
   "metadata": {},
   "source": [
    "#### Split test and train sets"
   ]
  },
  {
   "cell_type": "code",
   "execution_count": 5,
   "metadata": {},
   "outputs": [],
   "source": [
    "def split_train_test(X, Y, size):\n",
    "    \"\"\"\n",
    "    Function to split data into train and test sets.\n",
    "    \n",
    "    \"\"\"\n",
    "    \n",
    "    train_size = int(len(X) * size)\n",
    "    \n",
    "    X_train, X_test = X[:train_size], X[train_size:]\n",
    "    \n",
    "    Y_train, Y_test = Y[:train_size], Y[train_size:]\n",
    "    \n",
    "    return X_train, X_test, Y_train, Y_test"
   ]
  },
  {
   "cell_type": "code",
   "execution_count": 33,
   "metadata": {},
   "outputs": [
    {
     "name": "stdout",
     "output_type": "stream",
     "text": [
      "X_train shape: (746, 24)\n",
      "Y_train shape: (746, 24)\n",
      "X_test shape: (320, 24)\n",
      "Y_test shape: (320, 24)\n"
     ]
    }
   ],
   "source": [
    "X_train_naive, X_test_naive, Y_train_naive, Y_test_naive = split_train_test(X_naive, Y_naive, 0.70)\n",
    "\n",
    "print('X_train shape: {}'.format(X_train_univar.shape))\n",
    "print('Y_train shape: {}'.format(Y_train_univar.shape))\n",
    "print('X_test shape: {}'.format(X_test_univar.shape))\n",
    "print('Y_test shape: {}'.format(Y_test_univar.shape))"
   ]
  },
  {
   "cell_type": "markdown",
   "metadata": {},
   "source": [
    "### Evaluation metrics\n",
    "\n",
    "In multi-output problems errors are typically evaluated indivually per output period as opposed to aggregating. Aggregating can still give an indication of the general model performace. Using the indivdual errors however is useful to identify the time steps we are predicting well, versus those that are not.\n",
    "\n",
    "\n",
    "The base units of the problem are in MWh and having an error metric that is in these same units lets us make a direct comparison. Both Root Mean Squared Error and Mean Absolute Error are suitable for this task."
   ]
  },
  {
   "cell_type": "code",
   "execution_count": 34,
   "metadata": {},
   "outputs": [],
   "source": [
    "def calculate_errors(Y_hat_test, Y_test, result_set):\n",
    "    \n",
    "    #set a multi index to store and compare with other models\n",
    "    columns = [[result_set, result_set],['RMSE', 'MAE']]\n",
    "    \n",
    "    error_list = []\n",
    "    error_means = []\n",
    "    \n",
    "    \n",
    "    #calculate the mse and mae for each hour in the Y_test and Prediction\n",
    "    for i in range(Y_hat_train.shape[1]):\n",
    "        error_list.append([\n",
    "            #calcualte the RMSE\n",
    "            np.sqrt(metrics.mean_squared_error(Y_hat_test[:,i], Y_test[:,i]).numpy()),\n",
    "            #calcualte the MAE\n",
    "            metrics.mean_absolute_error(Y_hat_test[:,i], Y_test[:,i]).numpy()\n",
    "        ])\n",
    "\n",
    "    #append average mean error of the predictions\n",
    "    error_means.append([\n",
    "        np.mean(error_list[0]),\n",
    "        np.mean(error_list[1])\n",
    "    ])    \n",
    "    \n",
    "    \n",
    "    #set an index with the 24 periods\n",
    "    index = [str(x) for x in range(24)]\n",
    "    \n",
    "    #store errors in dataframe\n",
    "    errors = pd.DataFrame(error_list, index=index, columns=columns)\n",
    "    \n",
    "    return errors, error_means\n",
    "    "
   ]
  },
  {
   "cell_type": "markdown",
   "metadata": {},
   "source": [
    "### Univariate Naive\n",
    "\n",
    "The univariate naive forecast uses the previous time step as the prediction for the next timestep. As this is a multi-step problem, the naive univariate uses all h0..h23 slices from t-1 as predictions for t.\n",
    "\n",
    "To calcualte the mean squared and absolute errors for this we will calculate the errors for each of h0...h23 for all time slices in the seires then sum these values. This gives an error for the full 24 hour ahead prediction."
   ]
  },
  {
   "cell_type": "code",
   "execution_count": 35,
   "metadata": {},
   "outputs": [],
   "source": [
    "def naive_univariate(X_train, X_test):\n",
    "    return X_train, X_test\n",
    "    "
   ]
  },
  {
   "cell_type": "code",
   "execution_count": 36,
   "metadata": {},
   "outputs": [
    {
     "data": {
      "text/html": [
       "<div>\n",
       "<style scoped>\n",
       "    .dataframe tbody tr th:only-of-type {\n",
       "        vertical-align: middle;\n",
       "    }\n",
       "\n",
       "    .dataframe tbody tr th {\n",
       "        vertical-align: top;\n",
       "    }\n",
       "\n",
       "    .dataframe thead tr th {\n",
       "        text-align: left;\n",
       "    }\n",
       "</style>\n",
       "<table border=\"1\" class=\"dataframe\">\n",
       "  <thead>\n",
       "    <tr>\n",
       "      <th></th>\n",
       "      <th colspan=\"2\" halign=\"left\">naive</th>\n",
       "    </tr>\n",
       "    <tr>\n",
       "      <th></th>\n",
       "      <th>RMSE</th>\n",
       "      <th>MAE</th>\n",
       "    </tr>\n",
       "  </thead>\n",
       "  <tbody>\n",
       "    <tr>\n",
       "      <th>0</th>\n",
       "      <td>1754.552024</td>\n",
       "      <td>1284.125000</td>\n",
       "    </tr>\n",
       "    <tr>\n",
       "      <th>1</th>\n",
       "      <td>1610.340739</td>\n",
       "      <td>1173.734375</td>\n",
       "    </tr>\n",
       "    <tr>\n",
       "      <th>2</th>\n",
       "      <td>1534.230859</td>\n",
       "      <td>1125.228125</td>\n",
       "    </tr>\n",
       "    <tr>\n",
       "      <th>3</th>\n",
       "      <td>1534.882443</td>\n",
       "      <td>1160.056250</td>\n",
       "    </tr>\n",
       "    <tr>\n",
       "      <th>4</th>\n",
       "      <td>1566.619625</td>\n",
       "      <td>1210.306250</td>\n",
       "    </tr>\n",
       "    <tr>\n",
       "      <th>5</th>\n",
       "      <td>1734.748441</td>\n",
       "      <td>1369.821875</td>\n",
       "    </tr>\n",
       "    <tr>\n",
       "      <th>6</th>\n",
       "      <td>2688.056995</td>\n",
       "      <td>2048.881250</td>\n",
       "    </tr>\n",
       "    <tr>\n",
       "      <th>7</th>\n",
       "      <td>4391.224929</td>\n",
       "      <td>3233.200000</td>\n",
       "    </tr>\n",
       "    <tr>\n",
       "      <th>8</th>\n",
       "      <td>5205.568789</td>\n",
       "      <td>3816.178125</td>\n",
       "    </tr>\n",
       "    <tr>\n",
       "      <th>9</th>\n",
       "      <td>4924.368032</td>\n",
       "      <td>3659.384375</td>\n",
       "    </tr>\n",
       "    <tr>\n",
       "      <th>10</th>\n",
       "      <td>4444.571777</td>\n",
       "      <td>3338.787500</td>\n",
       "    </tr>\n",
       "    <tr>\n",
       "      <th>11</th>\n",
       "      <td>4175.399861</td>\n",
       "      <td>3162.128125</td>\n",
       "    </tr>\n",
       "    <tr>\n",
       "      <th>12</th>\n",
       "      <td>4287.953124</td>\n",
       "      <td>3217.453125</td>\n",
       "    </tr>\n",
       "    <tr>\n",
       "      <th>13</th>\n",
       "      <td>4034.986567</td>\n",
       "      <td>3046.062500</td>\n",
       "    </tr>\n",
       "    <tr>\n",
       "      <th>14</th>\n",
       "      <td>3707.768718</td>\n",
       "      <td>2786.243750</td>\n",
       "    </tr>\n",
       "    <tr>\n",
       "      <th>15</th>\n",
       "      <td>3979.313719</td>\n",
       "      <td>2989.415625</td>\n",
       "    </tr>\n",
       "    <tr>\n",
       "      <th>16</th>\n",
       "      <td>4234.836511</td>\n",
       "      <td>3187.384375</td>\n",
       "    </tr>\n",
       "    <tr>\n",
       "      <th>17</th>\n",
       "      <td>4313.269550</td>\n",
       "      <td>3252.312500</td>\n",
       "    </tr>\n",
       "    <tr>\n",
       "      <th>18</th>\n",
       "      <td>4137.248289</td>\n",
       "      <td>3102.309375</td>\n",
       "    </tr>\n",
       "    <tr>\n",
       "      <th>19</th>\n",
       "      <td>3912.592744</td>\n",
       "      <td>2898.203125</td>\n",
       "    </tr>\n",
       "    <tr>\n",
       "      <th>20</th>\n",
       "      <td>3483.699466</td>\n",
       "      <td>2572.575000</td>\n",
       "    </tr>\n",
       "    <tr>\n",
       "      <th>21</th>\n",
       "      <td>2934.114203</td>\n",
       "      <td>2181.462500</td>\n",
       "    </tr>\n",
       "    <tr>\n",
       "      <th>22</th>\n",
       "      <td>2274.622718</td>\n",
       "      <td>1672.578125</td>\n",
       "    </tr>\n",
       "    <tr>\n",
       "      <th>23</th>\n",
       "      <td>1839.509753</td>\n",
       "      <td>1347.650000</td>\n",
       "    </tr>\n",
       "  </tbody>\n",
       "</table>\n",
       "</div>"
      ],
      "text/plain": [
       "          naive             \n",
       "           RMSE          MAE\n",
       "0   1754.552024  1284.125000\n",
       "1   1610.340739  1173.734375\n",
       "2   1534.230859  1125.228125\n",
       "3   1534.882443  1160.056250\n",
       "4   1566.619625  1210.306250\n",
       "5   1734.748441  1369.821875\n",
       "6   2688.056995  2048.881250\n",
       "7   4391.224929  3233.200000\n",
       "8   5205.568789  3816.178125\n",
       "9   4924.368032  3659.384375\n",
       "10  4444.571777  3338.787500\n",
       "11  4175.399861  3162.128125\n",
       "12  4287.953124  3217.453125\n",
       "13  4034.986567  3046.062500\n",
       "14  3707.768718  2786.243750\n",
       "15  3979.313719  2989.415625\n",
       "16  4234.836511  3187.384375\n",
       "17  4313.269550  3252.312500\n",
       "18  4137.248289  3102.309375\n",
       "19  3912.592744  2898.203125\n",
       "20  3483.699466  2572.575000\n",
       "21  2934.114203  2181.462500\n",
       "22  2274.622718  1672.578125\n",
       "23  1839.509753  1347.650000"
      ]
     },
     "execution_count": 36,
     "metadata": {},
     "output_type": "execute_result"
    }
   ],
   "source": [
    "Y_hat_train_naive, Y_hat_test_naive = naive_univariate(X_train_univar, X_test_univar)\n",
    "\n",
    "errors_naive, _ = calculate_errors(Y_hat_test_naive, Y_test_naive, 'naive')\n",
    "#print(calculate_errors(Y_hat_test, Y_test_univar))\n",
    "errors_naive"
   ]
  },
  {
   "cell_type": "markdown",
   "metadata": {},
   "source": [
    "Create a function to plot the errors over each timestep"
   ]
  },
  {
   "cell_type": "code",
   "execution_count": 38,
   "metadata": {},
   "outputs": [],
   "source": [
    "def plot_error(errors, result_set='naive', error_kind='MAE', title='Autoregressive Naive Model'):\n",
    "    \"\"\"\n",
    "    Takes a dataframe of errors with headers RMSE, MAE and 24 periods from h_0 to h_23\n",
    "    \n",
    "    Returns a plot of the chosen error metric\n",
    "    \n",
    "    \n",
    "    \"\"\"\n",
    "    plt.figure(figsize=(8,7))\n",
    "    \n",
    "    #get values for the x label\n",
    "    x_labels = errors.index\n",
    "    \n",
    "    #call the plot\n",
    "    plt.plot(x_labels, errors[result_set][error_kind])\n",
    "\n",
    "    #set the label names and title\n",
    "    plt.ylabel('MWh Error')\n",
    "    plt.xlabel('Hour of day')\n",
    "    plt.title(title)\n",
    "    \n",
    "    plt.show()"
   ]
  },
  {
   "cell_type": "code",
   "execution_count": 39,
   "metadata": {},
   "outputs": [
    {
     "data": {
      "image/png": "[encoded data removed]",
      "text/plain": [
       "<Figure size 576x504 with 1 Axes>"
      ]
     },
     "metadata": {
      "needs_background": "light"
     },
     "output_type": "display_data"
    }
   ],
   "source": [
    "plot_error(errors_naive)"
   ]
  },
  {
   "cell_type": "markdown",
   "metadata": {},
   "source": [
    "We can see the model does relatively good job predicting from midnight to about 4 am. This makes sense because when considering a typical demand load profile this period is known as the 'base load'. This is the minimum load that grid operators expect to see, and plan to always maintain."
   ]
  },
  {
   "cell_type": "markdown",
   "metadata": {},
   "source": [
    "## Moving Average\n",
    "\n",
    "The moving average forecast uses the moving average from the last t-x steps to predict t. In this example we will investigate moving average of 3, 7, 14 days."
   ]
  },
  {
   "cell_type": "code",
   "execution_count": 45,
   "metadata": {},
   "outputs": [
    {
     "data": {
      "text/plain": [
       "((1066, 24), (1066, 24))"
      ]
     },
     "execution_count": 45,
     "metadata": {},
     "output_type": "execute_result"
    }
   ],
   "source": [
    "#get the data as X is t-1, and Y is t\n",
    "X_ma, Y_ma = set_X_Y_features(data, univariate=True)\n",
    "X_ma.shape, Y_ma.shape"
   ]
  },
  {
   "cell_type": "markdown",
   "metadata": {},
   "source": [
    "To get an idea what the moving average is doing lets plot the first two months (60 days) of the data along with the moving averages from 3, 7 and 14 days."
   ]
  },
  {
   "cell_type": "code",
   "execution_count": 75,
   "metadata": {},
   "outputs": [
    {
     "data": {
      "text/plain": [
       "<matplotlib.legend.Legend at 0x1a34bd0c88>"
      ]
     },
     "execution_count": 75,
     "metadata": {},
     "output_type": "execute_result"
    },
    {
     "data": {
      "image/png": "[encoded data removed]",
      "text/plain": [
       "<Figure size 432x288 with 1 Axes>"
      ]
     },
     "metadata": {
      "needs_background": "light"
     },
     "output_type": "display_data"
    }
   ],
   "source": [
    "#set interval parmaters\n",
    "hour= 18\n",
    "day_start=0\n",
    "day_end=60\n",
    "\n",
    "#select data slice\n",
    "load_range = X_ma.iloc[day_start:day_end,hour]\n",
    "\n",
    "#plot the original data\n",
    "load_range.plot(label='Actual Load')\n",
    "\n",
    "#plot the moving averages\n",
    "load_range.rolling(3).mean().plot(label='3D MA')\n",
    "load_range.rolling(7).mean().plot(label='7D MA')\n",
    "load_range.rolling(14).mean().plot(label='14D MA')\n",
    "\n",
    "#set the legend location\n",
    "plt.legend(bbox_to_anchor=(1,1))"
   ]
  },
  {
   "cell_type": "markdown",
   "metadata": {},
   "source": [
    "We can see how the moving averages 'smooth' out the original data. The shorter the MA window the closer to the original data. The longer the MA window the more it follows the long term trends.\n",
    "\n",
    "We can now setup a model that uses a moving average to predict t and calcualte the error. "
   ]
  },
  {
   "cell_type": "code",
   "execution_count": null,
   "metadata": {},
   "outputs": [],
   "source": [
    "\n",
    "X_ma.iloc[:,12].plot()\n",
    "#X_ma.iloc[12].rolling(3).mean().plot()\n",
    "#X_ma.iloc[12].rolling(7).mean().plot()\n",
    "#X_ma.iloc[12].rolling(14).mean().plot()"
   ]
  },
  {
   "cell_type": "code",
   "execution_count": null,
   "metadata": {},
   "outputs": [],
   "source": [
    "#for each hourly timestep construct moving averages form the last x days\n",
    "def get_moving_averages(X, moving_average=3):\n",
    "    \n",
    "    \n",
    "    \n",
    "    return None"
   ]
  },
  {
   "cell_type": "code",
   "execution_count": 51,
   "metadata": {},
   "outputs": [],
   "source": [
    "X_ma = pd.DataFrame(X_ma)"
   ]
  },
  {
   "cell_type": "code",
   "execution_count": 74,
   "metadata": {},
   "outputs": [
    {
     "data": {
      "text/plain": [
       "<matplotlib.legend.Legend at 0x1a35e34e48>"
      ]
     },
     "execution_count": 74,
     "metadata": {},
     "output_type": "execute_result"
    },
    {
     "data": {
      "image/png": "[encoded data removed]",
      "text/plain": [
       "<Figure size 432x288 with 1 Axes>"
      ]
     },
     "metadata": {
      "needs_background": "light"
     },
     "output_type": "display_data"
    }
   ],
   "source": [
    "hour= 18\n",
    "day_start=0\n",
    "day_end=60\n",
    "\n",
    "labels = {}\n",
    "\n",
    "load_range = X_ma.iloc[day_start:day_end,hour]\n",
    "\n",
    "load_range.plot(label='Actual Load')\n",
    "load_range.rolling(3).mean().plot(label='3D MA')\n",
    "load_range.rolling(7).mean().plot(label='7D MA')\n",
    "load_range.rolling(14).mean().plot(label='14D MA')\n",
    "plt.legend(bbox_to_anchor=(1,1))"
   ]
  },
  {
   "cell_type": "markdown",
   "metadata": {},
   "source": [
    "## ARIMA\n",
    "\n",
    "ARIMA stands for Autoregressive Integrated Moving Average. Compared with the above model it uses a linear combination of past time steps, and moving averages to predict t.\n",
    "\n",
    "ARIMA takes only a stationary time series. As explored in the ***DATA ANALYSIS*** notebook the load data can be made stationary by ***ANALYSIS RESULTS***\n",
    "\n",
    "We will use the ARIMA model from statsmodels.api which takes the following arguments:\n",
    "- p: is the number of lag observations in he model. Lag order.\n",
    "- d: the number of times raw observations are differenced. Degree of differencing.\n",
    "- q: the side of the moving average window. The order of moving average.\n"
   ]
  },
  {
   "cell_type": "code",
   "execution_count": null,
   "metadata": {},
   "outputs": [],
   "source": []
  }
 ],
 "metadata": {
  "kernelspec": {
   "display_name": "Python 3",
   "language": "python",
   "name": "python3"
  },
  "language_info": {
   "codemirror_mode": {
    "name": "ipython",
    "version": 3
   },
   "file_extension": ".py",
   "mimetype": "text/x-python",
   "name": "python",
   "nbconvert_exporter": "python",
   "pygments_lexer": "ipython3",
   "version": "3.6.8"
  }
 },
 "nbformat": 4,
 "nbformat_minor": 2
}
