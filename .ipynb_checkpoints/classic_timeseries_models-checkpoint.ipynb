{
 "cells": [
  {
   "cell_type": "markdown",
   "metadata": {},
   "source": [
    "# Classic timeseries models"
   ]
  },
  {
   "cell_type": "markdown",
   "metadata": {},
   "source": [
    "The purpose of the naive models are to form a benchmark for performance. This allows us to compare the performance of feature engineering, hyperparameter tuning, and model architecture against a set of references.\n",
    "\n",
    "\n",
    "### Test Harness: Walk forward validation\n",
    "A test rig is a naive implementation of the prediction model. In this notebook univariate and multivariate rigs are deployed as benchmarks for improvement in predictions.\n",
    "\n",
    "Naive univariate models are deployed using only the most recent data point in time to predict the next. I.e. t-1 = t. \n",
    "\n",
    "Multivariate models are deployed using all available feature vectors as predictors.  \n",
    "\n",
    "\n",
    "#### Classic Models\n",
    "- Univariate Naive\n",
    "- Multivariate Naive\n",
    "- Multivariate Moving Averages\n",
    "- Multivariate ARIMA"
   ]
  },
  {
   "cell_type": "markdown",
   "metadata": {},
   "source": [
    "###"
   ]
  },
  {
   "cell_type": "code",
   "execution_count": 2,
   "metadata": {},
   "outputs": [],
   "source": [
    "#import required packages\n",
    "import numpy as np\n",
    "import pandas as pd\n",
    "from tensorflow.keras import metrics"
   ]
  },
  {
   "cell_type": "code",
   "execution_count": 6,
   "metadata": {},
   "outputs": [
    {
     "data": {
      "text/html": [
       "<div>\n",
       "<style scoped>\n",
       "    .dataframe tbody tr th:only-of-type {\n",
       "        vertical-align: middle;\n",
       "    }\n",
       "\n",
       "    .dataframe tbody tr th {\n",
       "        vertical-align: top;\n",
       "    }\n",
       "\n",
       "    .dataframe thead th {\n",
       "        text-align: right;\n",
       "    }\n",
       "</style>\n",
       "<table border=\"1\" class=\"dataframe\">\n",
       "  <thead>\n",
       "    <tr style=\"text-align: right;\">\n",
       "      <th></th>\n",
       "      <th>t-0 h_0</th>\n",
       "      <th>t-1 h_0</th>\n",
       "    </tr>\n",
       "  </thead>\n",
       "  <tbody>\n",
       "    <tr>\n",
       "      <th>0</th>\n",
       "      <td>25833.0</td>\n",
       "      <td>27662.0</td>\n",
       "    </tr>\n",
       "    <tr>\n",
       "      <th>1</th>\n",
       "      <td>22113.0</td>\n",
       "      <td>25833.0</td>\n",
       "    </tr>\n",
       "    <tr>\n",
       "      <th>2</th>\n",
       "      <td>26810.0</td>\n",
       "      <td>22113.0</td>\n",
       "    </tr>\n",
       "    <tr>\n",
       "      <th>3</th>\n",
       "      <td>27578.0</td>\n",
       "      <td>26810.0</td>\n",
       "    </tr>\n",
       "    <tr>\n",
       "      <th>4</th>\n",
       "      <td>26897.0</td>\n",
       "      <td>27578.0</td>\n",
       "    </tr>\n",
       "  </tbody>\n",
       "</table>\n",
       "</div>"
      ],
      "text/plain": [
       "   t-0 h_0  t-1 h_0\n",
       "0  25833.0  27662.0\n",
       "1  22113.0  25833.0\n",
       "2  26810.0  22113.0\n",
       "3  27578.0  26810.0\n",
       "4  26897.0  27578.0"
      ]
     },
     "execution_count": 6,
     "metadata": {},
     "output_type": "execute_result"
    }
   ],
   "source": [
    "#load the preprocessed data\n",
    "data = pd.read_csv('./data/processed/transformed_2016_2018.csv')\n",
    "\n",
    "#investigate features for h_0\n",
    "#y-hat is columns from t-0\n",
    "data[['t-0 h_0','t-1 h_0']].head()"
   ]
  },
  {
   "cell_type": "code",
   "execution_count": 21,
   "metadata": {},
   "outputs": [],
   "source": [
    "def select_autoreg_features(dataframe, y_target='t-0', univariate=False):\n",
    "    \"\"\"\n",
    "    Function that takes in the preprocessed data and returns the Y and X datasets for univariate and multivariate test harnesses.\n",
    "    \n",
    "    \"\"\"\n",
    "    #select the column headers to build Y matrix\n",
    "Y_cols = [col for col in data.columns if 't-0' in col]\n",
    "\n",
    "Y = np.array(data[Y_cols])\n",
    "\n",
    "#selects the columns headers to build feature vectors of X\n",
    "X_cols = [col for col in data.columns if 't-0' not in col]\n",
    "\n",
    "X = np.array(data[X_cols])\n",
    "    "
   ]
  },
  {
   "cell_type": "code",
   "execution_count": 23,
   "metadata": {},
   "outputs": [
    {
     "data": {
      "text/html": [
       "<div>\n",
       "<style scoped>\n",
       "    .dataframe tbody tr th:only-of-type {\n",
       "        vertical-align: middle;\n",
       "    }\n",
       "\n",
       "    .dataframe tbody tr th {\n",
       "        vertical-align: top;\n",
       "    }\n",
       "\n",
       "    .dataframe thead th {\n",
       "        text-align: right;\n",
       "    }\n",
       "</style>\n",
       "<table border=\"1\" class=\"dataframe\">\n",
       "  <thead>\n",
       "    <tr style=\"text-align: right;\">\n",
       "      <th></th>\n",
       "      <th>date</th>\n",
       "      <th>t-1 h_0</th>\n",
       "      <th>t-1 h_1</th>\n",
       "      <th>t-1 h_2</th>\n",
       "      <th>t-1 h_3</th>\n",
       "      <th>t-1 h_4</th>\n",
       "      <th>t-1 h_5</th>\n",
       "      <th>t-1 h_6</th>\n",
       "      <th>t-1 h_7</th>\n",
       "      <th>t-1 h_8</th>\n",
       "      <th>...</th>\n",
       "      <th>t-30 h_14</th>\n",
       "      <th>t-30 h_15</th>\n",
       "      <th>t-30 h_16</th>\n",
       "      <th>t-30 h_17</th>\n",
       "      <th>t-30 h_18</th>\n",
       "      <th>t-30 h_19</th>\n",
       "      <th>t-30 h_20</th>\n",
       "      <th>t-30 h_21</th>\n",
       "      <th>t-30 h_22</th>\n",
       "      <th>t-30 h_23</th>\n",
       "    </tr>\n",
       "  </thead>\n",
       "  <tbody>\n",
       "    <tr>\n",
       "      <th>0</th>\n",
       "      <td>2016-01-31</td>\n",
       "      <td>27662.0</td>\n",
       "      <td>25660.0</td>\n",
       "      <td>24106.0</td>\n",
       "      <td>23276.0</td>\n",
       "      <td>22893.0</td>\n",
       "      <td>22841.0</td>\n",
       "      <td>23253.0</td>\n",
       "      <td>24655.0</td>\n",
       "      <td>26373.0</td>\n",
       "      <td>...</td>\n",
       "      <td>23265.0</td>\n",
       "      <td>22061.0</td>\n",
       "      <td>21481.0</td>\n",
       "      <td>21830.0</td>\n",
       "      <td>24291.0</td>\n",
       "      <td>25234.0</td>\n",
       "      <td>25881.0</td>\n",
       "      <td>26149.0</td>\n",
       "      <td>25610.0</td>\n",
       "      <td>24000.0</td>\n",
       "    </tr>\n",
       "    <tr>\n",
       "      <th>1</th>\n",
       "      <td>2016-02-01</td>\n",
       "      <td>25833.0</td>\n",
       "      <td>23820.0</td>\n",
       "      <td>22863.0</td>\n",
       "      <td>22056.0</td>\n",
       "      <td>21622.0</td>\n",
       "      <td>21588.0</td>\n",
       "      <td>21940.0</td>\n",
       "      <td>22543.0</td>\n",
       "      <td>23143.0</td>\n",
       "      <td>...</td>\n",
       "      <td>32099.0</td>\n",
       "      <td>31449.0</td>\n",
       "      <td>31179.0</td>\n",
       "      <td>31175.0</td>\n",
       "      <td>32515.0</td>\n",
       "      <td>34967.0</td>\n",
       "      <td>35381.0</td>\n",
       "      <td>34700.0</td>\n",
       "      <td>32055.0</td>\n",
       "      <td>28939.0</td>\n",
       "    </tr>\n",
       "  </tbody>\n",
       "</table>\n",
       "<p>2 rows × 145 columns</p>\n",
       "</div>"
      ],
      "text/plain": [
       "         date  t-1 h_0  t-1 h_1  t-1 h_2  t-1 h_3  t-1 h_4  t-1 h_5  t-1 h_6  \\\n",
       "0  2016-01-31  27662.0  25660.0  24106.0  23276.0  22893.0  22841.0  23253.0   \n",
       "1  2016-02-01  25833.0  23820.0  22863.0  22056.0  21622.0  21588.0  21940.0   \n",
       "\n",
       "   t-1 h_7  t-1 h_8  ...  t-30 h_14  t-30 h_15  t-30 h_16  t-30 h_17  \\\n",
       "0  24655.0  26373.0  ...    23265.0    22061.0    21481.0    21830.0   \n",
       "1  22543.0  23143.0  ...    32099.0    31449.0    31179.0    31175.0   \n",
       "\n",
       "   t-30 h_18  t-30 h_19  t-30 h_20  t-30 h_21  t-30 h_22  t-30 h_23  \n",
       "0    24291.0    25234.0    25881.0    26149.0    25610.0    24000.0  \n",
       "1    32515.0    34967.0    35381.0    34700.0    32055.0    28939.0  \n",
       "\n",
       "[2 rows x 145 columns]"
      ]
     },
     "execution_count": 23,
     "metadata": {},
     "output_type": "execute_result"
    }
   ],
   "source": [
    "data[X_cols].head(2)"
   ]
  },
  {
   "cell_type": "code",
   "execution_count": 25,
   "metadata": {},
   "outputs": [
    {
     "data": {
      "text/plain": [
       "(2, 145)"
      ]
     },
     "execution_count": 25,
     "metadata": {},
     "output_type": "execute_result"
    }
   ],
   "source": [
    "X[:2,:].shape"
   ]
  },
  {
   "cell_type": "code",
   "execution_count": null,
   "metadata": {},
   "outputs": [],
   "source": [
    "def naive_univariate():\n",
    "    "
   ]
  }
 ],
 "metadata": {
  "kernelspec": {
   "display_name": "Python 3",
   "language": "python",
   "name": "python3"
  },
  "language_info": {
   "codemirror_mode": {
    "name": "ipython",
    "version": 3
   },
   "file_extension": ".py",
   "mimetype": "text/x-python",
   "name": "python",
   "nbconvert_exporter": "python",
   "pygments_lexer": "ipython3",
   "version": "3.6.9"
  }
 },
 "nbformat": 4,
 "nbformat_minor": 2
}
