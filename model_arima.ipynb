{
 "cells": [
  {
   "cell_type": "markdown",
   "metadata": {},
   "source": [
    "## ARIMA Models\n",
    "\n",
    "ARIMA stands for Autoregressive Integrated Moving Average. Compared with the above model it uses a linear combination of past time steps, and moving averages to predict t.\n",
    "\n",
    "\n",
    "#### ARIMA Models Evaluated\n",
    "1. Multi-setp output ARIMA\n",
    "\n",
    "\n",
    "\n",
    "\n",
    "\n",
    "\n",
    "ARIMA takes only a stationary time series. As explored in the ***DATA ANALYSIS*** notebook the load data can be made stationary by ***ANALYSIS RESULTS***\n",
    "\n",
    "\n",
    "\n",
    "We will use the ARIMA model from statsmodels.api which takes the following arguments:\n",
    "- p: is the number of lag observations in he model. Lag order.\n",
    "- d: the number of times raw observations are differenced. Degree of differencing.\n",
    "- q: the side of the moving average window. The order of moving average.\n"
   ]
  },
  {
   "cell_type": "code",
   "execution_count": 7,
   "metadata": {},
   "outputs": [],
   "source": [
    "import pandas as pd\n",
    "import numpy as np\n",
    "import matplotlib.pyplot as plt\n",
    "import seaborn as sns\n",
    "%matplotlib inline\n",
    "sns.set_style('dark')\n",
    "\n",
    "from statsmodels.tsa.arima_model import ARIMA"
   ]
  },
  {
   "cell_type": "code",
   "execution_count": 5,
   "metadata": {},
   "outputs": [],
   "source": [
    "from model_persistence import get_persistence_dataset, train_test_split, walk_forward_evaluation, calculate_errors, plot_error"
   ]
  },
  {
   "cell_type": "code",
   "execution_count": 26,
   "metadata": {},
   "outputs": [
    {
     "data": {
      "text/html": [
       "<div>\n",
       "<style scoped>\n",
       "    .dataframe tbody tr th:only-of-type {\n",
       "        vertical-align: middle;\n",
       "    }\n",
       "\n",
       "    .dataframe tbody tr th {\n",
       "        vertical-align: top;\n",
       "    }\n",
       "\n",
       "    .dataframe thead th {\n",
       "        text-align: right;\n",
       "    }\n",
       "</style>\n",
       "<table border=\"1\" class=\"dataframe\">\n",
       "  <thead>\n",
       "    <tr style=\"text-align: right;\">\n",
       "      <th></th>\n",
       "      <th>t-0 h_0</th>\n",
       "      <th>t-0 h_1</th>\n",
       "      <th>t-0 h_2</th>\n",
       "      <th>t-0 h_3</th>\n",
       "      <th>t-0 h_4</th>\n",
       "      <th>t-0 h_5</th>\n",
       "      <th>t-0 h_6</th>\n",
       "      <th>t-0 h_7</th>\n",
       "      <th>t-0 h_8</th>\n",
       "      <th>t-0 h_9</th>\n",
       "      <th>...</th>\n",
       "      <th>t-0 h_14</th>\n",
       "      <th>t-0 h_15</th>\n",
       "      <th>t-0 h_16</th>\n",
       "      <th>t-0 h_17</th>\n",
       "      <th>t-0 h_18</th>\n",
       "      <th>t-0 h_19</th>\n",
       "      <th>t-0 h_20</th>\n",
       "      <th>t-0 h_21</th>\n",
       "      <th>t-0 h_22</th>\n",
       "      <th>t-0 h_23</th>\n",
       "    </tr>\n",
       "    <tr>\n",
       "      <th>date</th>\n",
       "      <th></th>\n",
       "      <th></th>\n",
       "      <th></th>\n",
       "      <th></th>\n",
       "      <th></th>\n",
       "      <th></th>\n",
       "      <th></th>\n",
       "      <th></th>\n",
       "      <th></th>\n",
       "      <th></th>\n",
       "      <th></th>\n",
       "      <th></th>\n",
       "      <th></th>\n",
       "      <th></th>\n",
       "      <th></th>\n",
       "      <th></th>\n",
       "      <th></th>\n",
       "      <th></th>\n",
       "      <th></th>\n",
       "      <th></th>\n",
       "      <th></th>\n",
       "    </tr>\n",
       "  </thead>\n",
       "  <tbody>\n",
       "    <tr>\n",
       "      <th>2015-01-01</th>\n",
       "      <td>25385.0</td>\n",
       "      <td>24382.0</td>\n",
       "      <td>22734.0</td>\n",
       "      <td>21286.0</td>\n",
       "      <td>20264.0</td>\n",
       "      <td>19905.0</td>\n",
       "      <td>20010.0</td>\n",
       "      <td>20377.0</td>\n",
       "      <td>20094.0</td>\n",
       "      <td>20637.0</td>\n",
       "      <td>...</td>\n",
       "      <td>24672.0</td>\n",
       "      <td>23528.0</td>\n",
       "      <td>23118.0</td>\n",
       "      <td>23606.0</td>\n",
       "      <td>26447.0</td>\n",
       "      <td>28020.0</td>\n",
       "      <td>29014.0</td>\n",
       "      <td>29571.0</td>\n",
       "      <td>29031.0</td>\n",
       "      <td>26798.0</td>\n",
       "    </tr>\n",
       "    <tr>\n",
       "      <th>2015-01-02</th>\n",
       "      <td>27070.0</td>\n",
       "      <td>24935.0</td>\n",
       "      <td>23214.0</td>\n",
       "      <td>22540.0</td>\n",
       "      <td>22096.0</td>\n",
       "      <td>22066.0</td>\n",
       "      <td>22275.0</td>\n",
       "      <td>23025.0</td>\n",
       "      <td>23699.0</td>\n",
       "      <td>25834.0</td>\n",
       "      <td>...</td>\n",
       "      <td>29241.0</td>\n",
       "      <td>27973.0</td>\n",
       "      <td>27320.0</td>\n",
       "      <td>27157.0</td>\n",
       "      <td>29045.0</td>\n",
       "      <td>31967.0</td>\n",
       "      <td>33266.0</td>\n",
       "      <td>33668.0</td>\n",
       "      <td>32426.0</td>\n",
       "      <td>29705.0</td>\n",
       "    </tr>\n",
       "    <tr>\n",
       "      <th>2015-01-03</th>\n",
       "      <td>25564.0</td>\n",
       "      <td>23584.0</td>\n",
       "      <td>22194.0</td>\n",
       "      <td>21296.0</td>\n",
       "      <td>21145.0</td>\n",
       "      <td>21316.0</td>\n",
       "      <td>21674.0</td>\n",
       "      <td>22127.0</td>\n",
       "      <td>22756.0</td>\n",
       "      <td>24654.0</td>\n",
       "      <td>...</td>\n",
       "      <td>26416.0</td>\n",
       "      <td>25362.0</td>\n",
       "      <td>24770.0</td>\n",
       "      <td>24501.0</td>\n",
       "      <td>24992.0</td>\n",
       "      <td>27964.0</td>\n",
       "      <td>29694.0</td>\n",
       "      <td>29874.0</td>\n",
       "      <td>28979.0</td>\n",
       "      <td>26863.0</td>\n",
       "    </tr>\n",
       "  </tbody>\n",
       "</table>\n",
       "<p>3 rows × 24 columns</p>\n",
       "</div>"
      ],
      "text/plain": [
       "            t-0 h_0  t-0 h_1  t-0 h_2  t-0 h_3  t-0 h_4  t-0 h_5  t-0 h_6  \\\n",
       "date                                                                        \n",
       "2015-01-01  25385.0  24382.0  22734.0  21286.0  20264.0  19905.0  20010.0   \n",
       "2015-01-02  27070.0  24935.0  23214.0  22540.0  22096.0  22066.0  22275.0   \n",
       "2015-01-03  25564.0  23584.0  22194.0  21296.0  21145.0  21316.0  21674.0   \n",
       "\n",
       "            t-0 h_7  t-0 h_8  t-0 h_9  ...  t-0 h_14  t-0 h_15  t-0 h_16  \\\n",
       "date                                   ...                                 \n",
       "2015-01-01  20377.0  20094.0  20637.0  ...   24672.0   23528.0   23118.0   \n",
       "2015-01-02  23025.0  23699.0  25834.0  ...   29241.0   27973.0   27320.0   \n",
       "2015-01-03  22127.0  22756.0  24654.0  ...   26416.0   25362.0   24770.0   \n",
       "\n",
       "            t-0 h_17  t-0 h_18  t-0 h_19  t-0 h_20  t-0 h_21  t-0 h_22  \\\n",
       "date                                                                     \n",
       "2015-01-01   23606.0   26447.0   28020.0   29014.0   29571.0   29031.0   \n",
       "2015-01-02   27157.0   29045.0   31967.0   33266.0   33668.0   32426.0   \n",
       "2015-01-03   24501.0   24992.0   27964.0   29694.0   29874.0   28979.0   \n",
       "\n",
       "            t-0 h_23  \n",
       "date                  \n",
       "2015-01-01   26798.0  \n",
       "2015-01-02   29705.0  \n",
       "2015-01-03   26863.0  \n",
       "\n",
       "[3 rows x 24 columns]"
      ]
     },
     "execution_count": 26,
     "metadata": {},
     "output_type": "execute_result"
    }
   ],
   "source": [
    "data = get_persistence_dataset()\n",
    "train, test = train_test_split(data)\n",
    "train.head(3)"
   ]
  },
  {
   "cell_type": "code",
   "execution_count": 27,
   "metadata": {},
   "outputs": [
    {
     "data": {
      "text/plain": [
       "array([[25385., 24382., 22734., 21286., 20264., 19905., 20010., 20377.,\n",
       "        20094., 20637., 22250., 23547., 24133., 24713., 24672., 23528.,\n",
       "        23118., 23606., 26447., 28020., 29014., 29571., 29031., 26798.],\n",
       "       [27070., 24935., 23214., 22540., 22096., 22066., 22275., 23025.,\n",
       "        23699., 25834., 27927., 29072., 29071., 29439., 29241., 27973.,\n",
       "        27320., 27157., 29045., 31967., 33266., 33668., 32426., 29705.]])"
      ]
     },
     "execution_count": 27,
     "metadata": {},
     "output_type": "execute_result"
    }
   ],
   "source": [
    "### reshape the data (flatten) for input into ARIMA\n",
    "\n",
    "train.values[:2]"
   ]
  },
  {
   "cell_type": "code",
   "execution_count": 30,
   "metadata": {},
   "outputs": [],
   "source": [
    "train = train.values.flatten()"
   ]
  },
  {
   "cell_type": "code",
   "execution_count": 29,
   "metadata": {},
   "outputs": [
    {
     "data": {
      "text/plain": [
       "array([25385., 24382., 22734., ..., 28071., 25801., 24455.])"
      ]
     },
     "execution_count": 29,
     "metadata": {},
     "output_type": "execute_result"
    }
   ],
   "source": [
    "data.values.flatten()"
   ]
  },
  {
   "cell_type": "code",
   "execution_count": null,
   "metadata": {},
   "outputs": [],
   "source": [
    "test = ARIMA(train, order=(24, 0, 0))\n",
    "    \n",
    "test.fit()\n",
    "    \n",
    "    \n",
    "test.predict(len(data.values.flatten()),len(data.values.flatten())+23)"
   ]
  },
  {
   "cell_type": "code",
   "execution_count": null,
   "metadata": {},
   "outputs": [],
   "source": []
  },
  {
   "cell_type": "code",
   "execution_count": null,
   "metadata": {},
   "outputs": [],
   "source": []
  },
  {
   "cell_type": "code",
   "execution_count": null,
   "metadata": {},
   "outputs": [],
   "source": []
  }
 ],
 "metadata": {
  "kernelspec": {
   "display_name": "Python 3",
   "language": "python",
   "name": "python3"
  },
  "language_info": {
   "codemirror_mode": {
    "name": "ipython",
    "version": 3
   },
   "file_extension": ".py",
   "mimetype": "text/x-python",
   "name": "python",
   "nbconvert_exporter": "python",
   "pygments_lexer": "ipython3",
   "version": "3.6.8"
  }
 },
 "nbformat": 4,
 "nbformat_minor": 2
}
