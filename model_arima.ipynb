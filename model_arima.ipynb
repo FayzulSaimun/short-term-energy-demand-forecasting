{
 "cells": [
  {
   "cell_type": "markdown",
   "metadata": {},
   "source": [
    "## ARIMA Models\n",
    "\n",
    "ARIMA stands for Autoregressive Integrated Moving Average. Compared with the above model it uses a linear combination of past time steps, and moving averages to predict t.\n",
    "\n",
    "\n",
    "## Contents \n",
    "1. ARIMA parameters analysis\n",
    "2. ARIMA multi-step taining and evaluation\n",
    "\n",
    "\n",
    "#### ARIMA Models Evaluated\n",
    "1. Multi-setp output ARIMA\n",
    "\n",
    "\n",
    "\n",
    "\n",
    "\n",
    "\n",
    "ARIMA takes only a stationary time series. As explored in the ***DATA ANALYSIS*** notebook the load data can be made stationary by ***ANALYSIS RESULTS***\n",
    "\n",
    "\n",
    "\n",
    "We will use the ARIMA model from statsmodels.api which takes the following arguments:\n",
    "- p: is the number of lag observations in the model and can be estimated from Autocorrelation plots\n",
    "- d: the number of times raw observations are differenced in order to make the series stationary. This is determined with a Dicky-Fuller test.\n",
    "- q: the side of the moving average window. The order of moving average.\n"
   ]
  },
  {
   "cell_type": "code",
   "execution_count": 1,
   "metadata": {},
   "outputs": [],
   "source": [
    "import pandas as pd\n",
    "import numpy as np\n",
    "import matplotlib.pyplot as plt\n",
    "import seaborn as sns\n",
    "import datetime\n",
    "%matplotlib inline\n",
    "sns.set_style('dark')\n",
    "\n",
    "#import libraries for statistical analysis\n",
    "import statsmodels.api as sm\n",
    "from statsmodels.tsa.arima_model import ARIMA, ARIMAResults\n",
    "from statsmodels.graphics.tsaplots import plot_acf, plot_pacf\n",
    "from statsmodels.tsa.statespace.sarimax import SARIMAX, SARIMAXResults\n",
    "from sklearn.metrics import mean_squared_error\n",
    "\n",
    "\n",
    "#import libraries for parallel processing\n",
    "from multiprocessing import cpu_count\n",
    "from joblib import Parallel\n",
    "from joblib import delayed\n",
    "from warnings import catch_warnings\n",
    "from warnings import filterwarnings\n",
    "\n",
    "#import custom utils including persistence testbench\n",
    "from model_persistence import get_persistence_dataset, train_test_split, walk_forward_evaluation, calculate_errors, plot_error"
   ]
  },
  {
   "cell_type": "code",
   "execution_count": 2,
   "metadata": {},
   "outputs": [
    {
     "data": {
      "text/html": [
       "<div>\n",
       "<style scoped>\n",
       "    .dataframe tbody tr th:only-of-type {\n",
       "        vertical-align: middle;\n",
       "    }\n",
       "\n",
       "    .dataframe tbody tr th {\n",
       "        vertical-align: top;\n",
       "    }\n",
       "\n",
       "    .dataframe thead th {\n",
       "        text-align: right;\n",
       "    }\n",
       "</style>\n",
       "<table border=\"1\" class=\"dataframe\">\n",
       "  <thead>\n",
       "    <tr style=\"text-align: right;\">\n",
       "      <th></th>\n",
       "      <th>t-0 h_0</th>\n",
       "      <th>t-0 h_1</th>\n",
       "      <th>t-0 h_2</th>\n",
       "      <th>t-0 h_3</th>\n",
       "      <th>t-0 h_4</th>\n",
       "      <th>t-0 h_5</th>\n",
       "      <th>t-0 h_6</th>\n",
       "      <th>t-0 h_7</th>\n",
       "      <th>t-0 h_8</th>\n",
       "      <th>t-0 h_9</th>\n",
       "      <th>...</th>\n",
       "      <th>t-0 h_14</th>\n",
       "      <th>t-0 h_15</th>\n",
       "      <th>t-0 h_16</th>\n",
       "      <th>t-0 h_17</th>\n",
       "      <th>t-0 h_18</th>\n",
       "      <th>t-0 h_19</th>\n",
       "      <th>t-0 h_20</th>\n",
       "      <th>t-0 h_21</th>\n",
       "      <th>t-0 h_22</th>\n",
       "      <th>t-0 h_23</th>\n",
       "    </tr>\n",
       "    <tr>\n",
       "      <th>date</th>\n",
       "      <th></th>\n",
       "      <th></th>\n",
       "      <th></th>\n",
       "      <th></th>\n",
       "      <th></th>\n",
       "      <th></th>\n",
       "      <th></th>\n",
       "      <th></th>\n",
       "      <th></th>\n",
       "      <th></th>\n",
       "      <th></th>\n",
       "      <th></th>\n",
       "      <th></th>\n",
       "      <th></th>\n",
       "      <th></th>\n",
       "      <th></th>\n",
       "      <th></th>\n",
       "      <th></th>\n",
       "      <th></th>\n",
       "      <th></th>\n",
       "      <th></th>\n",
       "    </tr>\n",
       "  </thead>\n",
       "  <tbody>\n",
       "    <tr>\n",
       "      <th>2015-01-01</th>\n",
       "      <td>25385.0</td>\n",
       "      <td>24382.0</td>\n",
       "      <td>22734.0</td>\n",
       "      <td>21286.0</td>\n",
       "      <td>20264.0</td>\n",
       "      <td>19905.0</td>\n",
       "      <td>20010.0</td>\n",
       "      <td>20377.0</td>\n",
       "      <td>20094.0</td>\n",
       "      <td>20637.0</td>\n",
       "      <td>...</td>\n",
       "      <td>24672.0</td>\n",
       "      <td>23528.0</td>\n",
       "      <td>23118.0</td>\n",
       "      <td>23606.0</td>\n",
       "      <td>26447.0</td>\n",
       "      <td>28020.0</td>\n",
       "      <td>29014.0</td>\n",
       "      <td>29571.0</td>\n",
       "      <td>29031.0</td>\n",
       "      <td>26798.0</td>\n",
       "    </tr>\n",
       "    <tr>\n",
       "      <th>2015-01-02</th>\n",
       "      <td>27070.0</td>\n",
       "      <td>24935.0</td>\n",
       "      <td>23214.0</td>\n",
       "      <td>22540.0</td>\n",
       "      <td>22096.0</td>\n",
       "      <td>22066.0</td>\n",
       "      <td>22275.0</td>\n",
       "      <td>23025.0</td>\n",
       "      <td>23699.0</td>\n",
       "      <td>25834.0</td>\n",
       "      <td>...</td>\n",
       "      <td>29241.0</td>\n",
       "      <td>27973.0</td>\n",
       "      <td>27320.0</td>\n",
       "      <td>27157.0</td>\n",
       "      <td>29045.0</td>\n",
       "      <td>31967.0</td>\n",
       "      <td>33266.0</td>\n",
       "      <td>33668.0</td>\n",
       "      <td>32426.0</td>\n",
       "      <td>29705.0</td>\n",
       "    </tr>\n",
       "    <tr>\n",
       "      <th>2015-01-03</th>\n",
       "      <td>25564.0</td>\n",
       "      <td>23584.0</td>\n",
       "      <td>22194.0</td>\n",
       "      <td>21296.0</td>\n",
       "      <td>21145.0</td>\n",
       "      <td>21316.0</td>\n",
       "      <td>21674.0</td>\n",
       "      <td>22127.0</td>\n",
       "      <td>22756.0</td>\n",
       "      <td>24654.0</td>\n",
       "      <td>...</td>\n",
       "      <td>26416.0</td>\n",
       "      <td>25362.0</td>\n",
       "      <td>24770.0</td>\n",
       "      <td>24501.0</td>\n",
       "      <td>24992.0</td>\n",
       "      <td>27964.0</td>\n",
       "      <td>29694.0</td>\n",
       "      <td>29874.0</td>\n",
       "      <td>28979.0</td>\n",
       "      <td>26863.0</td>\n",
       "    </tr>\n",
       "  </tbody>\n",
       "</table>\n",
       "<p>3 rows × 24 columns</p>\n",
       "</div>"
      ],
      "text/plain": [
       "            t-0 h_0  t-0 h_1  t-0 h_2  t-0 h_3  t-0 h_4  t-0 h_5  t-0 h_6  \\\n",
       "date                                                                        \n",
       "2015-01-01  25385.0  24382.0  22734.0  21286.0  20264.0  19905.0  20010.0   \n",
       "2015-01-02  27070.0  24935.0  23214.0  22540.0  22096.0  22066.0  22275.0   \n",
       "2015-01-03  25564.0  23584.0  22194.0  21296.0  21145.0  21316.0  21674.0   \n",
       "\n",
       "            t-0 h_7  t-0 h_8  t-0 h_9  ...  t-0 h_14  t-0 h_15  t-0 h_16  \\\n",
       "date                                   ...                                 \n",
       "2015-01-01  20377.0  20094.0  20637.0  ...   24672.0   23528.0   23118.0   \n",
       "2015-01-02  23025.0  23699.0  25834.0  ...   29241.0   27973.0   27320.0   \n",
       "2015-01-03  22127.0  22756.0  24654.0  ...   26416.0   25362.0   24770.0   \n",
       "\n",
       "            t-0 h_17  t-0 h_18  t-0 h_19  t-0 h_20  t-0 h_21  t-0 h_22  \\\n",
       "date                                                                     \n",
       "2015-01-01   23606.0   26447.0   28020.0   29014.0   29571.0   29031.0   \n",
       "2015-01-02   27157.0   29045.0   31967.0   33266.0   33668.0   32426.0   \n",
       "2015-01-03   24501.0   24992.0   27964.0   29694.0   29874.0   28979.0   \n",
       "\n",
       "            t-0 h_23  \n",
       "date                  \n",
       "2015-01-01   26798.0  \n",
       "2015-01-02   29705.0  \n",
       "2015-01-03   26863.0  \n",
       "\n",
       "[3 rows x 24 columns]"
      ]
     },
     "execution_count": 2,
     "metadata": {},
     "output_type": "execute_result"
    }
   ],
   "source": [
    "#load the dataset and crete the train and test sets.\n",
    "data = get_persistence_dataset()\n",
    "\n",
    "#split using default date 2017-12-31\n",
    "train, test = train_test_split(data)\n",
    "train.head(3)"
   ]
  },
  {
   "cell_type": "markdown",
   "metadata": {},
   "source": [
    "### ARIMA Parameter Analysis\n",
    "\n",
    "\n",
    "We will use the ARIMA model from statsmodels.api. The ARIMA takes three arguments p, d, q and represent the model's lags, differncing, and moving window size. Arriving at their inital values is done via the box-jenkins method described below:\n",
    "- p: The number of lag observations in the model and can be estimated from an Autocorrelation plot as the number of lag points that show deviation outside the confidence band.\n",
    "- d: The number of times raw observations are differenced in order to make the series stationary. This is determined with a Dicky-Fuller test.\n",
    "- q: The side of the moving average window. The order of moving average."
   ]
  },
  {
   "cell_type": "markdown",
   "metadata": {},
   "source": [
    "##### Startionay and differncing of the dataset\n",
    "\n",
    "As described in the stationary test in the Data Analysis workbook, set of daily mean data was stationary. Here we test if the hourly data is stationary using the adfuller test over a period of 1 week of lags (24 * 7).\n",
    "\n",
    "***Null Hypothesis***: The dataset is non-stationary and therefore differencing must be carried out.\n",
    "\n",
    "If p-value is < 0.05 (two tailed test), we reject the null and assume that the time series is stationary."
   ]
  },
  {
   "cell_type": "code",
   "execution_count": 13,
   "metadata": {},
   "outputs": [],
   "source": [
    "#flatten the train set because the statistical model only accepts univariate series\n",
    "train_flat = train.values.flatten()"
   ]
  },
  {
   "cell_type": "code",
   "execution_count": 3,
   "metadata": {},
   "outputs": [
    {
     "name": "stdout",
     "output_type": "stream",
     "text": [
      "Test Statistic   -7.804579e+00\n",
      "p-value           7.339533e-12\n",
      "#Lags             1.680000e+02\n",
      "Observations      2.613500e+04\n",
      "dtype: float64\n"
     ]
    }
   ],
   "source": [
    "adful_t = sm.tsa.adfuller(train_flat, maxlag=24*7)\n",
    "print(pd.Series(adful_t[0:4], index=['Test Statistic','p-value','#Lags','Observations']))"
   ]
  },
  {
   "cell_type": "markdown",
   "metadata": {},
   "source": [
    "The p-value of the test is significantly smaller than the threshold of 0.05 and therefore we ***reject the null*** and assume a stationary dataset.\n",
    "\n",
    "Therefore the default model paramter for d (the differncing value) is 0. We will also invesitgate a differencing paramter of 24 and 168 corresponding with the previous day, and the previous week.\n",
    "\n"
   ]
  },
  {
   "cell_type": "markdown",
   "metadata": {},
   "source": [
    "##### Autocorrelation and partial autocorrelation\n",
    "\n",
    "Descrption of the plots:\n",
    "\n",
    "ACF - Describes the direct and indirect relationships between laging (shifted) autoregressive features. I.e. the relationships between t, t-1, t-2, t-3 etc. taking into account the interrelatinships between features, in this case t-1 and t-2, t-2 and t-3 etc.\n",
    "\n",
    "PACF - Describes only the direct relationships between lagging (shifted) and autoregressive features.\n",
    "\n",
    "p (AR): Determining the autoregressive hyperparameter value p, is best described as the number of lags beyond which there is no significant relationship. This is seen in the ACF as the point at which plot values lie outside the significance band (light blue horizontal band)\n",
    "\n",
    "q (MR): Determining the moving average hyperparameter value q, is described as the direct relationship with the lag feature and the feature. "
   ]
  },
  {
   "cell_type": "code",
   "execution_count": 65,
   "metadata": {},
   "outputs": [
    {
     "data": {
      "image/png": "[encoded data removed]",
      "text/plain": [
       "<Figure size 720x720 with 4 Axes>"
      ]
     },
     "metadata": {},
     "output_type": "display_data"
    }
   ],
   "source": [
    "#plot the ACF \n",
    "fig, axs = plt.subplots(2,2, figsize=(10,10))\n",
    "\n",
    "lags = [48, 24*7, 24*14, 24*365]\n",
    "\n",
    "for lag, ax in zip(lags, axs.flatten()):\n",
    "    plot_acf(train_flat, lags=lag, ax=ax)\n",
    "plt.show()"
   ]
  },
  {
   "cell_type": "markdown",
   "metadata": {},
   "source": [
    "The autocorrelation plot shows significant positive corelations in the first 9 lags. However in this problem we are attempting to forecast the next 24 hours and using a lag less than 24 does not capture the full context of a short-term day ahead forecast.\n",
    "\n",
    "The cyclic pattern of the autoregressive features is apprent in the plots. In the ARIMA model the assumption is that beyond the chosen lag point (p), there is no correlation. Observing the bottom right plot we see this point occurs around approximately 4000 lags (approximately 1/2 year).\n",
    "\n",
    "For the scope of this project calculating with 4000 lags is not feasible. We will focus on lag points 24 (previous day), 48 (previous two days), 168 (previous week)."
   ]
  },
  {
   "cell_type": "code",
   "execution_count": 68,
   "metadata": {},
   "outputs": [
    {
     "data": {
      "image/png": "[encoded data removed]",
      "text/plain": [
       "<Figure size 720x720 with 4 Axes>"
      ]
     },
     "metadata": {},
     "output_type": "display_data"
    }
   ],
   "source": [
    "#plot the ACF \n",
    "fig, axs = plt.subplots(2,2, figsize=(10,10))\n",
    "\n",
    "lags = [24, 24*3, 24*7, 24*14]\n",
    "\n",
    "for lag, ax in zip(lags, axs.flatten()):\n",
    "    plot_pacf(train_flat, lags=lag, ax=ax)\n",
    "plt.show()"
   ]
  },
  {
   "cell_type": "markdown",
   "metadata": {},
   "source": [
    "The partial autocorrelation plot shows that beyond 24 lags there is no signficant partial autocorrelation. Considering this we will investigate lags 2, 3, 12, and 24 for the moving average values."
   ]
  },
  {
   "cell_type": "markdown",
   "metadata": {},
   "source": [
    "##### Summary of hyperparmeter values to investigate\n",
    "\n",
    "- p (autoregressive): 24, 48, 168\n",
    "- d (differncing): 0, 24, 168\n",
    "- q (moving average): 0, 2, 3, 12, 24"
   ]
  },
  {
   "cell_type": "markdown",
   "metadata": {},
   "source": [
    "### ARIMA Model: Baselines\n",
    "\n",
    "The baseline parametres for the ARIMA model are chosen as (p, d, q) = (24, 0, 0). This implies 24 autoregressive features are computed for each day in the training set. Because this is computationally intensive we will run this for 1/365 test cycle of the walk forward validation and log the training time."
   ]
  },
  {
   "cell_type": "code",
   "execution_count": 15,
   "metadata": {},
   "outputs": [
    {
     "name": "stdout",
     "output_type": "stream",
     "text": [
      "CPU times: user 57min 2s, sys: 43.6 s, total: 57min 46s\n",
      "Wall time: 15min 9s\n"
     ]
    }
   ],
   "source": [
    "#run the model for one forecasting period and estimate how long it will take to implement\n",
    "\n",
    "def test_run_ARIMA(train_flat):\n",
    "    #setup a model instence\n",
    "    model_24 = ARIMA(train_flat, order=(24, 0, 0))\n",
    "\n",
    "    #fit the model\n",
    "    model_fit_24 = model_24.fit()\n",
    "\n",
    "    #run the 24 interval forecast and return the operation time\n",
    "    forecast_24, std_24, intervals_24 = model_fit_24.forecast(24)\n",
    "    \n",
    "    return forecast_24, std_24, intervals_24\n",
    "    \n",
    "%time forecast_24, std_24, intervals_24 = test_run_ARIMA(train_flat)    "
   ]
  },
  {
   "cell_type": "code",
   "execution_count": 105,
   "metadata": {},
   "outputs": [
    {
     "name": "stdout",
     "output_type": "stream",
     "text": [
      "\n"
     ]
    },
    {
     "data": {
      "image/png": "[encoded data removed]",
      "text/plain": [
       "<Figure size 576x504 with 1 Axes>"
      ]
     },
     "metadata": {},
     "output_type": "display_data"
    }
   ],
   "source": [
    "#plot the result and get an idea if the forecast is in the right direction\n",
    "fig = plt.figure(figsize=(8,7))\n",
    "\n",
    "plt.plot(forecast_24, label='Predicted day')\n",
    "plt.plot(intervals_24[:,0], label='High/Low confidence interval', color='gray')\n",
    "plt.plot(intervals_24[:,1], color='gray')\n",
    "plt.plot(test.iloc[0,:], label='Actual day')\n",
    "plt.xticks(rotation=45)\n",
    "plt.title('ARIMA Forecast vs. Actual for first day in test set')\n",
    "plt.xlabel('MWh')\n",
    "plt.ylabel('Hour of Day')\n",
    "plt.legend()\n",
    "plt.show()"
   ]
  },
  {
   "cell_type": "markdown",
   "metadata": {},
   "source": [
    "The example above shows the first test day forecast vs actual values after training on the whole 3 years of training data."
   ]
  },
  {
   "cell_type": "code",
   "execution_count": 42,
   "metadata": {},
   "outputs": [
    {
     "name": "stdout",
     "output_type": "stream",
     "text": [
      "ARIMA 1 step walk forward RMSE: 3393.73 MWh\n"
     ]
    }
   ],
   "source": [
    "#calculate the root mean squared error of the single test run\n",
    "print('ARIMA 1 step walk forward RMSE: {0:.2f} MWh' .format(np.sqrt(mean_squared_error(test.iloc[0,:], forecast_24))))"
   ]
  },
  {
   "cell_type": "markdown",
   "metadata": {},
   "source": [
    "##### ARIMA model function\n",
    "\n",
    "Before moving to calculate the walk forward validation on the entire training set using only one autoregressive feature. This will allow testing of the funcitons written to calcualte RMSE and plotting of hour by hour RMSE."
   ]
  },
  {
   "cell_type": "code",
   "execution_count": 2,
   "metadata": {},
   "outputs": [],
   "source": [
    "#define a model to insert into the training rig created in the persistence workbook\n",
    "def arima_model(history, config):\n",
    "    \n",
    "    #convert dataframe to numpy array and flatten into column vector\n",
    "    history_flat = history.values.flatten()\n",
    "    \n",
    "    p,d,q = config\n",
    "    \n",
    "    #initalize the ARIMA model\n",
    "    model = ARIMA(history_flat, order=(p, d, q))\n",
    "    \n",
    "    #fit model\n",
    "    model_fit = model.fit()\n",
    "    \n",
    "    #generate forecast for the next 24 hours\n",
    "    forecast, _, _ = model_fit.forecast(24)\n",
    "    \n",
    "    #save the model\n",
    "    #name = 'model-' + str(datetime.datetime.now()) +'.pkl'\n",
    "    #model_fit.save(name)\n",
    "    \n",
    "    #print('Done. Model Saved.')\n",
    "    \n",
    "    return forecast"
   ]
  },
  {
   "cell_type": "code",
   "execution_count": 104,
   "metadata": {},
   "outputs": [],
   "source": [
    "errors, errors_mean, prediction = walk_forward_evaluation(arima_model, train, test, 'arima_model', config=(1,0,0))"
   ]
  },
  {
   "cell_type": "code",
   "execution_count": 106,
   "metadata": {},
   "outputs": [
    {
     "data": {
      "image/png": "[encoded data removed]",
      "text/plain": [
       "<Figure size 576x504 with 1 Axes>"
      ]
     },
     "metadata": {},
     "output_type": "display_data"
    }
   ],
   "source": [
    "plot_error(errors, result_set=['arima_model'], title='Baseline ARIMA model errors (1,0,0)')"
   ]
  },
  {
   "cell_type": "markdown",
   "metadata": {},
   "source": [
    "The above shows the hour by hour errors for the whole walk forward test set using one autoregressive feature. This is equivilant of forecasting using a naive function where hour 23 is used as the forecast for the following 24 hours."
   ]
  },
  {
   "cell_type": "markdown",
   "metadata": {},
   "source": [
    "### ARIMA Model: Computation Estimations\n",
    "\n",
    "##### Full test set walk forward: computation time estimate\n",
    "\n",
    "The baseline evaluation above fit the model on 3 years of hourly data and forecast the first day in the training set. Following the walk forward validation methodology this process is run ***for the entire test set***. Baseline time results for 1/365 of the test forecast:\n",
    "\n",
    "CPU Time 57 min 46 s\n",
    "Wall time 15 min 09 s\n",
    "\n",
    "The process used multiple cores to complete. On an average of 4 cores for the job the total training set would take 15 min * 365 test days. Or a total of 91 hours (3.8 days).\n",
    "\n",
    "##### Grid search hyperparameters computation time\n",
    "\n",
    "Following the analysis of AC and PAC plots 45 combinations of hyperparmeters have been identified of interest. Assuming similar computation times for each hyperparmeter combination as the baseline the total computer time is:\n",
    "\n",
    "***Computation time:*** 45 hyperparmeters * 91 hours = 4095 hours using 4 cores per job (4*45 cores for multicore processing.\n",
    "\n",
    "##### Assessing implementation options\n",
    "\n",
    "**1. Run ARIMA on a GPU**\n",
    "\n",
    "According to [this post](https://github.com/statsmodels/statsmodels/issues/4752) the ARIMA model is not deployable on a GPU. \n",
    "\n",
    "The [Hyperlearn repo](https://github.com/danielhanchen/hyperlearn) did look promising as a resource that implements multithreaded processing of Sklearn, statsmodels etc. However at writing it does not support an ARIMA model implementation.\n",
    "\n",
    "**2. Condense the training and test sets**\n",
    "\n",
    "In the original problem formulation the walk forward validation problem was set up with 3 years of training data and 1 year test for a total of 4 years.\n",
    "\n",
    "By dropping the training size to 1 year, and forecasting the first 3 months of the original test set we drop the total data by ~65%.\n",
    "\n",
    "**3. Consider using SARIMAX**\n",
    "\n",
    "The SARIMAX model is more complex, and uses mode features resulting in a larger statespace to calculate. According to the documentation the ARIMA model is mintained at minimum while the SARIMA model has newer implementations. It is not clear that the SAIRMAX is in fact a faster algorithem. In this notebook we will run a test against a ARIMA and compare"
   ]
  },
  {
   "cell_type": "markdown",
   "metadata": {},
   "source": [
    "##### Computation tests on smaller dataset\n",
    "\n",
    "Here we implement a condsened version of the walk forward validation set. The specific details of the datasets is described below:\n",
    "\n",
    "- Train: 2017-01-01 to 2017-12-31\n",
    "- Test: 2018-01-01 to 2018-03-31 \n",
    "- Model: ARIMA (24,0,0) predicting the frist 1/90 days of the test set"
   ]
  },
  {
   "cell_type": "code",
   "execution_count": 25,
   "metadata": {},
   "outputs": [],
   "source": [
    "#setup the train and test with a condensed training set\n",
    "data = get_persistence_dataset(start='2017-01-01', stop='2018-03-31')\n",
    "train_condensed, test_condensed = train_test_split(data, split_date='2017-12-31')\n",
    "train_flat_condensed = train_condensed.values.flatten()"
   ]
  },
  {
   "cell_type": "code",
   "execution_count": 31,
   "metadata": {},
   "outputs": [
    {
     "name": "stdout",
     "output_type": "stream",
     "text": [
      "Total days in train set 365\n",
      "Total days in test set 90\n"
     ]
    }
   ],
   "source": [
    "print('Total days in train set {}'.format(train_condensed.shape[0]))\n",
    "print('Total days in test set {}'.format(test_condensed.shape[0]))"
   ]
  },
  {
   "cell_type": "code",
   "execution_count": 28,
   "metadata": {},
   "outputs": [
    {
     "name": "stdout",
     "output_type": "stream",
     "text": [
      "CPU times: user 31min 11s, sys: 39.9 s, total: 31min 51s\n",
      "Wall time: 8min 6s\n"
     ]
    }
   ],
   "source": [
    "#repeat the vanilla ARIMA with 24 auroregressive features\n",
    "%time forecast_ARMA, std_AMRA, intervals_AMRA = test_run_ARIMA(train_flat_condensed)"
   ]
  },
  {
   "cell_type": "code",
   "execution_count": 48,
   "metadata": {},
   "outputs": [
    {
     "data": {
      "image/png": "[encoded data removed]",
      "text/plain": [
       "<Figure size 576x504 with 1 Axes>"
      ]
     },
     "metadata": {},
     "output_type": "display_data"
    }
   ],
   "source": [
    "#plot the result and get an idea if the forecast is in the right direction\n",
    "fig = plt.figure(figsize=(8,7))\n",
    "\n",
    "plt.plot(forecast_24, label='Predicted day')\n",
    "plt.plot(intervals_24[:,0], label='High/Low confidence interval', color='gray')\n",
    "plt.plot(intervals_24[:,1], color='gray')\n",
    "plt.plot(test.iloc[0,:], label='Actual day')\n",
    "plt.xticks(rotation=45)\n",
    "plt.title('ARIMA Forecast vs. Actual for first day in condensed test set')\n",
    "plt.xlabel('MWh')\n",
    "plt.ylabel('Hour of Day')\n",
    "plt.legend()\n",
    "plt.show()"
   ]
  },
  {
   "cell_type": "code",
   "execution_count": 45,
   "metadata": {},
   "outputs": [
    {
     "name": "stdout",
     "output_type": "stream",
     "text": [
      "ARIMA 1 step walk forward RMSE: 3393.73 MWh\n"
     ]
    }
   ],
   "source": [
    "print('ARIMA 1 step walk forward RMSE: {0:.2f} MWh' .format(np.sqrt(mean_squared_error(test_condensed.iloc[0,:], forecast_ARMA))))"
   ]
  },
  {
   "cell_type": "markdown",
   "metadata": {},
   "source": [
    "##### Computation test using the SARIMAX model\n",
    "\n",
    "As mentioned the SARIMAX model is possibly a faster implementation. Functionally the model also offers an additional layer of hyperparmeters, P/D/Q/m, pertaining to seasonality.\n",
    "\n",
    "- P: Seasonal autoregressive order.\n",
    "- D: Seasonal difference order.\n",
    "- Q: Seasonal moving average order.\n",
    "- m: The number of time steps for a single seasonal period.\n",
    "\n",
    "The additional features allows us to reframe the forecasting problem to each m periods is a season. Witin the season we can set P, D, Q respectively as functions of the season. \n",
    "\n",
    "For the test run the trend parameters were chosen to be the same as the ARIMA. In this case (24, 0, 0). The seasonal parmaters were chosen based on knowledge of the problem.\n",
    "\n",
    "**Baseline seasonal hyperparmeter values**\n",
    "- m: 24 to represent the cyclic pattern of energy demand every 24 hours.\n",
    "- P: 1 to take the autoregressive features from the previous season (i.e. previous day)\n",
    "- D: 1 to consider the differncing between consecutive seasons (i.e. days)\n",
    "- Q: 0 to consider that consecutive seasonal forecasts are independent\n"
   ]
  },
  {
   "cell_type": "code",
   "execution_count": 30,
   "metadata": {},
   "outputs": [
    {
     "name": "stdout",
     "output_type": "stream",
     "text": [
      "CPU times: user 27min 11s, sys: 43.8 s, total: 27min 55s\n",
      "Wall time: 7min 57s\n"
     ]
    }
   ],
   "source": [
    "#test run estimation of the SARIMAX algorithem\n",
    "\n",
    "def test_run_SARIMAX(train_flat):\n",
    "    #setup a model instence\n",
    "    model_SAMX = SARIMAX(train_flat, order=(24, 0, 0), seasonal_order = (1,1,0,24))\n",
    "\n",
    "    #fit the model\n",
    "    model_fit_SAMX = model_SAMX.fit()\n",
    "\n",
    "    #run the 24 interval forecast and return the operation time\n",
    "    forecast_SAMX = model_fit_SAMX.forecast(24)\n",
    "    \n",
    "    return forecast_SAMX\n",
    "\n",
    "\n",
    "#run train with a condensed training set\n",
    "data = get_persistence_dataset(start='2017-01-01', stop='2018-03-31')\n",
    "train, test = train_test_split(data, split_date='2017-12-31')\n",
    "train_flat_short = train.values.flatten()\n",
    "\n",
    "%time forecast_SAMX = test_run_SARIMAX(train_flat_condensed) "
   ]
  },
  {
   "cell_type": "code",
   "execution_count": 47,
   "metadata": {},
   "outputs": [
    {
     "name": "stdout",
     "output_type": "stream",
     "text": [
      "\n"
     ]
    },
    {
     "data": {
      "image/png": "[encoded data removed]",
      "text/plain": [
       "<Figure size 576x504 with 1 Axes>"
      ]
     },
     "metadata": {},
     "output_type": "display_data"
    }
   ],
   "source": [
    "#evaluate SARIMAX test run and see how it compares t\n",
    "#plot the result and get an idea if the forecast is in the right direction\n",
    "fig = plt.figure(figsize=(8,7))\n",
    "\n",
    "plt.plot(forecast_SAMX, label='SARIMAX Predicted day')\n",
    "plt.plot(test_condensed.iloc[0,:], label='Actual day')\n",
    "plt.xticks(rotation=45)\n",
    "plt.title('SARIMAX Forecast vs. Actual for first day in condensed test set')\n",
    "plt.xlabel('MWh')\n",
    "plt.ylabel('Hour of Day')\n",
    "plt.legend()\n",
    "plt.show()"
   ]
  },
  {
   "cell_type": "code",
   "execution_count": 43,
   "metadata": {},
   "outputs": [
    {
     "name": "stdout",
     "output_type": "stream",
     "text": [
      "ARIMA 1 step walk forward RMSE: 2162.67 MWh\n"
     ]
    }
   ],
   "source": [
    "print('SARIMAX 1 step walk forward RMSE: {0:.2f} MWh' .format(np.sqrt(mean_squared_error(test_condensed.iloc[0,:], forecast_SAMX))))"
   ]
  },
  {
   "cell_type": "markdown",
   "metadata": {},
   "source": [
    "#### Computational test results\n",
    "\n",
    "|Model|Test Set|RMSE (Single Step)| Computation Time (min) | Total Time Estimated (h)|\n",
    "|-----|--------|---|---|---|\n",
    "|ARIMA|Full|xxxx | 15:09|91.25|\n",
    "|ARIMA|Condensed|3393.73 | 08:06|12.15|\n",
    "|SARIMAX|Condensed|2162.67 | 07:57|11.92|\n",
    "\n",
    "##### Was SARIMAX really faster?\n",
    "\n",
    "With a difference of only 9 seconds, it seems unlikely. One option to know would be to run the test several times each and measure the mean difference. However this odes not seem practical considering we are looking for a method that reduces computation load.\n",
    "\n",
    "While SARIMAX might not have been faster, the forecast was substancially better both in terms of the RMSE on the first walk forward validation step and the look of the forecast in the plot.\n",
    "\n",
    "Therefore we will revisit the hypertuning parameters and define new gridsearch parmeters for SARIMAX."
   ]
  },
  {
   "cell_type": "markdown",
   "metadata": {},
   "source": [
    "### Gridsearch and SARIMAX Model\n",
    "\n",
    "Trend Terms:\n",
    "- p (autoregressive): 24, 48, 168\n",
    "    - Search over hourly autoregressive segemnts of 24, 48, 168\n",
    "- d (differncing): 0\n",
    "    - Because there is no requirement that the input is stationary with SARIMAX, differencing is now considered in the seasonal configuration.\n",
    "- q (moving average): 0, 2, 3, 12, 24\n",
    "    - \n",
    "\n",
    "Seasonal terms:\n",
    "\n",
    "Trend term: 'n' \n",
    "\n",
    "- m: 24 to represent the cyclic pattern of energy demand every 24 hours.\n",
    "- P: 1 to take the autoregressive features from the previous season (i.e. previous day)\n",
    "- D: 1 to consider the differncing between consecutive seasons (i.e. days)\n",
    "- Q: 0 to consider that consecutive seasonal forecasts are independent\n"
   ]
  },
  {
   "cell_type": "code",
   "execution_count": null,
   "metadata": {},
   "outputs": [],
   "source": [
    "- p (autoregressive): 24, 48, 168\n",
    "- d (differncing): 0, 24, 168\n",
    "- q (moving average): 0, 2, 3, 12, 24"
   ]
  },
  {
   "cell_type": "code",
   "execution_count": null,
   "metadata": {},
   "outputs": [],
   "source": []
  },
  {
   "cell_type": "code",
   "execution_count": 51,
   "metadata": {},
   "outputs": [],
   "source": [
    "#define a model to insert into the training rig created in the persistence workbook\n",
    "def sarimax_model(history, config):\n",
    "    \n",
    "    #convert dataframe to numpy array and flatten into column vector\n",
    "    history_flat = history.values.flatten()\n",
    "    \n",
    "    p, d, q, P, D, Q, m = config\n",
    "    \n",
    "    #initalize the ARIMA model\n",
    "    model = SARIMAX(history_flat, order=(p, d, q), seasonal_order=(P, D, Q, m), trend='n')\n",
    "    \n",
    "    #fit model\n",
    "    model_fit = model.fit()\n",
    "    \n",
    "    #generate forecast for the next 24 hours\n",
    "    forecast= model_fit.forecast(24)\n",
    "    \n",
    "    return forecast"
   ]
  },
  {
   "cell_type": "code",
   "execution_count": null,
   "metadata": {},
   "outputs": [],
   "source": []
  },
  {
   "cell_type": "markdown",
   "metadata": {},
   "source": [
    "##### GridSearch framework for testing\n",
    "\n",
    "Grid searching over the identified hyperparameter space will allow us to see which configuration delivers the best forecasts.\n",
    "\n",
    "The grid search code below is adapted from Jason Brownlee's impelmentation in his Book: Deep Learning Time Series Forecasting."
   ]
  },
  {
   "cell_type": "code",
   "execution_count": 3,
   "metadata": {},
   "outputs": [],
   "source": [
    "def score_model(model, data, split_date, cfg):\n",
    "    \"\"\"\n",
    "    Function that\n",
    "    - splits the data into test and train\n",
    "    - tries to initalize an intence of the model\n",
    "    - prints and returns the model errors, mean rmse, and predictions\n",
    "    \n",
    "    \"\"\"\n",
    "    \n",
    "    result = None\n",
    "    errors = None\n",
    "    predictions = None\n",
    "    \n",
    "    #get the name of the model\n",
    "    name = str(model)\n",
    "    #get the model parameters\n",
    "    key = str(cfg)\n",
    "\n",
    "    #initalize the train and test data\n",
    "    train, test = train_test_split(data, split_date=split_date)\n",
    "    \n",
    "    try:\n",
    "        with catch_warnings():\n",
    "            filterwarnings('ignore')\n",
    "            \n",
    "            #run walk forward and return rmse, errors, and forecast\n",
    "            result, errors, predictions = walk_forward_evaluation(model, train, test, name, config=cfg)\n",
    "\n",
    "    except:\n",
    "        print('Bad config' + str(cfg))\n",
    "    \n",
    "    if result is not None:\n",
    "        print(' Model {}: {}'.format(key, result))\n",
    "    \n",
    "    return (key, result, errors, predictions)"
   ]
  },
  {
   "cell_type": "code",
   "execution_count": 4,
   "metadata": {},
   "outputs": [],
   "source": [
    "def grid_search(model, data, cfg_list, split_date, parallel=True):\n",
    "    \"\"\"\n",
    "    Grid search function\n",
    "    - launches parallel jobs according to number of cpus available\n",
    "    - one job per model configuration \n",
    "    \"\"\"\n",
    "\n",
    "    \n",
    "    scores = []\n",
    "\n",
    "    if parallel:\n",
    "        # execute configs in parallel\n",
    "        executor = Parallel(n_jobs=cpu_count(), verbose=10, backend='multiprocessing')\n",
    "        #set tasks into the buffer\n",
    "        tasks = (delayed(score_model)(model, data, split_date, cfg) for cfg in cfg_list)\n",
    "        #execute tasks in order\n",
    "        scores = executor(tasks)\n",
    "    else:\n",
    "        for cfg in cfg_list:\n",
    "            score = score_model(model, data, split_date, cfg)\n",
    "\n",
    "        scores.append(score)\n",
    "    \n",
    "    #remove the scores with no values\n",
    "    scores = [r for r in scores if r[1] != None]\n",
    "    \n",
    "    # sort configs by error, asc\n",
    "    scores.sort(key=lambda tup: tup[1])\n",
    "    \n",
    "    #scores contains the configuration, error_rmse, errors, predictions\n",
    "    return scores"
   ]
  },
  {
   "cell_type": "code",
   "execution_count": 50,
   "metadata": {},
   "outputs": [],
   "source": [
    "# function to create the model configurations to search over.\n",
    "def arima_configs(t_lags, t_diffs, t_mas, s_lags, s_diffs, s_mas, s_ms):\n",
    "    configs = list()\n",
    "    for t_lag in t_lags:\n",
    "        for t_diff in t_diffs:\n",
    "            for t_ma in t_mas:\n",
    "                for s_lag in s_lags:\n",
    "                    for s_diff in s_diffs:\n",
    "                        for s_ma in s_mas:\n",
    "                            for s_m in s_ms:\n",
    "                                cfg = [t_lag, t_diff, t_ma, s_lag, s_diff, s_ma, s_m]\n",
    "                                configs.append(cfg)\n",
    "    return configs"
   ]
  },
  {
   "cell_type": "markdown",
   "metadata": {},
   "source": [
    "##### Testing the grid search function\n",
    "\n",
    "Before setting up a large job with the whole training set and "
   ]
  },
  {
   "cell_type": "code",
   "execution_count": 52,
   "metadata": {},
   "outputs": [
    {
     "name": "stderr",
     "output_type": "stream",
     "text": [
      "[Parallel(n_jobs=8)]: Using backend MultiprocessingBackend with 8 concurrent workers.\n"
     ]
    },
    {
     "name": "stdout",
     "output_type": "stream",
     "text": [
      "Bad config[2, 0, 0, 1, 0, 0, 1]\n",
      "Bad config[2, 0, 1, 1, 0, 0, 1]\n"
     ]
    },
    {
     "name": "stderr",
     "output_type": "stream",
     "text": [
      "[Parallel(n_jobs=8)]: Done   2 out of   8 | elapsed:    1.7s remaining:    5.1s\n"
     ]
    },
    {
     "name": "stdout",
     "output_type": "stream",
     "text": [
      "Walk forward finished\n",
      " Model [1, 1, 0, 1, 0, 0, 1]: 6640.879644664686\n"
     ]
    },
    {
     "name": "stderr",
     "output_type": "stream",
     "text": [
      "[Parallel(n_jobs=8)]: Done   3 out of   8 | elapsed:    8.4s remaining:   14.1s\n"
     ]
    },
    {
     "name": "stdout",
     "output_type": "stream",
     "text": [
      "Walk forward finished\n",
      " Model [1, 1, 1, 1, 0, 0, 1]: 6526.418094125199\n"
     ]
    },
    {
     "name": "stderr",
     "output_type": "stream",
     "text": [
      "[Parallel(n_jobs=8)]: Done   4 out of   8 | elapsed:   14.6s remaining:   14.6s\n"
     ]
    },
    {
     "name": "stdout",
     "output_type": "stream",
     "text": [
      "Walk forward finished\n",
      " Model [2, 1, 0, 1, 0, 0, 1]: 6441.872881504437\n"
     ]
    },
    {
     "name": "stderr",
     "output_type": "stream",
     "text": [
      "[Parallel(n_jobs=8)]: Done   5 out of   8 | elapsed:   15.3s remaining:    9.2s\n"
     ]
    },
    {
     "name": "stdout",
     "output_type": "stream",
     "text": [
      "Walk forward finished\n",
      " Model [1, 0, 0, 1, 0, 0, 1]: 20473.938545620495\n"
     ]
    },
    {
     "name": "stderr",
     "output_type": "stream",
     "text": [
      "[Parallel(n_jobs=8)]: Done   6 out of   8 | elapsed:   20.2s remaining:    6.7s\n"
     ]
    },
    {
     "name": "stdout",
     "output_type": "stream",
     "text": [
      "Walk forward finished\n",
      " Model [1, 0, 1, 1, 0, 0, 1]: 7340.106580532975\n",
      "Walk forward finished\n",
      " Model [2, 1, 1, 1, 0, 0, 1]: 3724.219015773335\n",
      "CPU times: user 145 ms, sys: 94.1 ms, total: 239 ms\n",
      "Wall time: 40.9 s\n",
      "done\n"
     ]
    },
    {
     "name": "stderr",
     "output_type": "stream",
     "text": [
      "[Parallel(n_jobs=8)]: Done   8 out of   8 | elapsed:   40.6s remaining:    0.0s\n",
      "[Parallel(n_jobs=8)]: Done   8 out of   8 | elapsed:   40.6s finished\n"
     ]
    }
   ],
   "source": [
    "data = get_persistence_dataset(start='2018-01-01', stop='2018-03-31')\n",
    "\n",
    "model = sarimax_model\n",
    "\n",
    "t_lags = [1,2]\n",
    "t_diffs = [0,1]\n",
    "t_mas = [0,1]\n",
    "\n",
    "s_lags = [1]\n",
    "s_diffs = [0]\n",
    "s_mas = [0]\n",
    "s_ms = [1]\n",
    "\n",
    "\n",
    "cfg_list = arima_configs(t_lags, t_diffs, t_mas, s_lags, s_diffs, s_mas, s_ms)\n",
    "split_date = '2018-03-01'\n",
    "%time scores = grid_search(model, data, cfg_list, split_date, parallel=True)\n",
    "\n",
    "print('done')"
   ]
  },
  {
   "cell_type": "code",
   "execution_count": null,
   "metadata": {},
   "outputs": [],
   "source": []
  },
  {
   "cell_type": "code",
   "execution_count": 13,
   "metadata": {
    "collapsed": true
   },
   "outputs": [
    {
     "name": "stdout",
     "output_type": "stream",
     "text": [
      "[2, 0, 0]\n",
      "3469.0012166246975\n",
      "    <function arima_model at 0x1c236f6400>\n",
      "0                              1663.967815\n",
      "1                              1600.198211\n",
      "2                              1817.679205\n",
      "3                              2197.258762\n",
      "4                              2750.776778\n",
      "5                              3155.647141\n",
      "6                              2994.309067\n",
      "7                              3654.317155\n",
      "8                              4461.656393\n",
      "9                              4543.949960\n",
      "10                             4363.701103\n",
      "11                             4133.122377\n",
      "12                             3962.590239\n",
      "13                             3812.757340\n",
      "14                             3381.125475\n",
      "15                             3441.435269\n",
      "16                             3621.707886\n",
      "17                             3683.812241\n",
      "18                             3526.313357\n",
      "19                             3924.400201\n",
      "20                             4616.744906\n",
      "21                             4324.779757\n",
      "22                             2720.704403\n",
      "23                             1836.473462\n",
      "                 t-0 h_0       t-0 h_1       t-0 h_2     t-0 h_3  \\\n",
      "date                                                               \n",
      "2018-03-02  27005.106345  25735.902865  25129.578171  25098.6748   \n",
      "2018-03-03  27005.106345  25735.902865  25129.578171  25098.6748   \n",
      "2018-03-04  27005.106345  25735.902865  25129.578171  25098.6748   \n",
      "2018-03-05  27005.106345  25735.902865  25129.578171  25098.6748   \n",
      "2018-03-06  27005.106345  25735.902865  25129.578171  25098.6748   \n",
      "2018-03-07  27005.106345  25735.902865  25129.578171  25098.6748   \n",
      "2018-03-08  27005.106345  25735.902865  25129.578171  25098.6748   \n",
      "2018-03-09  27005.106345  25735.902865  25129.578171  25098.6748   \n",
      "2018-03-10  27005.106345  25735.902865  25129.578171  25098.6748   \n",
      "2018-03-11  27005.106345  25735.902865  25129.578171  25098.6748   \n",
      "2018-03-12  27005.106345  25735.902865  25129.578171  25098.6748   \n",
      "2018-03-13  27005.106345  25735.902865  25129.578171  25098.6748   \n",
      "2018-03-14  27005.106345  25735.902865  25129.578171  25098.6748   \n",
      "2018-03-15  27005.106345  25735.902865  25129.578171  25098.6748   \n",
      "2018-03-16  27005.106345  25735.902865  25129.578171  25098.6748   \n",
      "2018-03-17  27005.106345  25735.902865  25129.578171  25098.6748   \n",
      "2018-03-18  27005.106345  25735.902865  25129.578171  25098.6748   \n",
      "2018-03-19  27005.106345  25735.902865  25129.578171  25098.6748   \n",
      "2018-03-20  27005.106345  25735.902865  25129.578171  25098.6748   \n",
      "2018-03-21  27005.106345  25735.902865  25129.578171  25098.6748   \n",
      "2018-03-22  27005.106345  25735.902865  25129.578171  25098.6748   \n",
      "2018-03-23  27005.106345  25735.902865  25129.578171  25098.6748   \n",
      "2018-03-24  27005.106345  25735.902865  25129.578171  25098.6748   \n",
      "2018-03-25  27005.106345  25735.902865  25129.578171  25098.6748   \n",
      "2018-03-26  27005.106345  25735.902865  25129.578171  25098.6748   \n",
      "2018-03-27  27005.106345  25735.902865  25129.578171  25098.6748   \n",
      "2018-03-28  27005.106345  25735.902865  25129.578171  25098.6748   \n",
      "2018-03-29  27005.106345  25735.902865  25129.578171  25098.6748   \n",
      "2018-03-30  27005.106345  25735.902865  25129.578171  25098.6748   \n",
      "2018-03-31  27005.106345  25735.902865  25129.578171  25098.6748   \n",
      "\n",
      "                 t-0 h_4       t-0 h_5      t-0 h_6       t-0 h_7  \\\n",
      "date                                                                \n",
      "2018-03-02  25521.720466  26261.745798  27182.22645  28159.540153   \n",
      "2018-03-03  25521.720466  26261.745798  27182.22645  28159.540153   \n",
      "2018-03-04  25521.720466  26261.745798  27182.22645  28159.540153   \n",
      "2018-03-05  25521.720466  26261.745798  27182.22645  28159.540153   \n",
      "2018-03-06  25521.720466  26261.745798  27182.22645  28159.540153   \n",
      "2018-03-07  25521.720466  26261.745798  27182.22645  28159.540153   \n",
      "2018-03-08  25521.720466  26261.745798  27182.22645  28159.540153   \n",
      "2018-03-09  25521.720466  26261.745798  27182.22645  28159.540153   \n",
      "2018-03-10  25521.720466  26261.745798  27182.22645  28159.540153   \n",
      "2018-03-11  25521.720466  26261.745798  27182.22645  28159.540153   \n",
      "2018-03-12  25521.720466  26261.745798  27182.22645  28159.540153   \n",
      "2018-03-13  25521.720466  26261.745798  27182.22645  28159.540153   \n",
      "2018-03-14  25521.720466  26261.745798  27182.22645  28159.540153   \n",
      "2018-03-15  25521.720466  26261.745798  27182.22645  28159.540153   \n",
      "2018-03-16  25521.720466  26261.745798  27182.22645  28159.540153   \n",
      "2018-03-17  25521.720466  26261.745798  27182.22645  28159.540153   \n",
      "2018-03-18  25521.720466  26261.745798  27182.22645  28159.540153   \n",
      "2018-03-19  25521.720466  26261.745798  27182.22645  28159.540153   \n",
      "2018-03-20  25521.720466  26261.745798  27182.22645  28159.540153   \n",
      "2018-03-21  25521.720466  26261.745798  27182.22645  28159.540153   \n",
      "2018-03-22  25521.720466  26261.745798  27182.22645  28159.540153   \n",
      "2018-03-23  25521.720466  26261.745798  27182.22645  28159.540153   \n",
      "2018-03-24  25521.720466  26261.745798  27182.22645  28159.540153   \n",
      "2018-03-25  25521.720466  26261.745798  27182.22645  28159.540153   \n",
      "2018-03-26  25521.720466  26261.745798  27182.22645  28159.540153   \n",
      "2018-03-27  25521.720466  26261.745798  27182.22645  28159.540153   \n",
      "2018-03-28  25521.720466  26261.745798  27182.22645  28159.540153   \n",
      "2018-03-29  25521.720466  26261.745798  27182.22645  28159.540153   \n",
      "2018-03-30  25521.720466  26261.745798  27182.22645  28159.540153   \n",
      "2018-03-31  25521.720466  26261.745798  27182.22645  28159.540153   \n",
      "\n",
      "                 t-0 h_8       t-0 h_9  ...      t-0 h_14      t-0 h_15  \\\n",
      "date                                    ...                               \n",
      "2018-03-02  29091.546238  29902.336431  ...  31273.391386  31105.433178   \n",
      "2018-03-03  29091.546238  29902.336431  ...  31273.391386  31105.433178   \n",
      "2018-03-04  29091.546238  29902.336431  ...  31273.391386  31105.433178   \n",
      "2018-03-05  29091.546238  29902.336431  ...  31273.391386  31105.433178   \n",
      "2018-03-06  29091.546238  29902.336431  ...  31273.391386  31105.433178   \n",
      "2018-03-07  29091.546238  29902.336431  ...  31273.391386  31105.433178   \n",
      "2018-03-08  29091.546238  29902.336431  ...  31273.391386  31105.433178   \n",
      "2018-03-09  29091.546238  29902.336431  ...  31273.391386  31105.433178   \n",
      "2018-03-10  29091.546238  29902.336431  ...  31273.391386  31105.433178   \n",
      "2018-03-11  29091.546238  29902.336431  ...  31273.391386  31105.433178   \n",
      "2018-03-12  29091.546238  29902.336431  ...  31273.391386  31105.433178   \n",
      "2018-03-13  29091.546238  29902.336431  ...  31273.391386  31105.433178   \n",
      "2018-03-14  29091.546238  29902.336431  ...  31273.391386  31105.433178   \n",
      "2018-03-15  29091.546238  29902.336431  ...  31273.391386  31105.433178   \n",
      "2018-03-16  29091.546238  29902.336431  ...  31273.391386  31105.433178   \n",
      "2018-03-17  29091.546238  29902.336431  ...  31273.391386  31105.433178   \n",
      "2018-03-18  29091.546238  29902.336431  ...  31273.391386  31105.433178   \n",
      "2018-03-19  29091.546238  29902.336431  ...  31273.391386  31105.433178   \n",
      "2018-03-20  29091.546238  29902.336431  ...  31273.391386  31105.433178   \n",
      "2018-03-21  29091.546238  29902.336431  ...  31273.391386  31105.433178   \n",
      "2018-03-22  29091.546238  29902.336431  ...  31273.391386  31105.433178   \n",
      "2018-03-23  29091.546238  29902.336431  ...  31273.391386  31105.433178   \n",
      "2018-03-24  29091.546238  29902.336431  ...  31273.391386  31105.433178   \n",
      "2018-03-25  29091.546238  29902.336431  ...  31273.391386  31105.433178   \n",
      "2018-03-26  29091.546238  29902.336431  ...  31273.391386  31105.433178   \n",
      "2018-03-27  29091.546238  29902.336431  ...  31273.391386  31105.433178   \n",
      "2018-03-28  29091.546238  29902.336431  ...  31273.391386  31105.433178   \n",
      "2018-03-29  29091.546238  29902.336431  ...  31273.391386  31105.433178   \n",
      "2018-03-30  29091.546238  29902.336431  ...  31273.391386  31105.433178   \n",
      "2018-03-31  29091.546238  29902.336431  ...  31273.391386  31105.433178   \n",
      "\n",
      "                t-0 h_16      t-0 h_17      t-0 h_18      t-0 h_19  \\\n",
      "date                                                                 \n",
      "2018-03-02  30868.721163  30599.874189  30330.554744  30085.628404   \n",
      "2018-03-03  30868.721163  30599.874189  30330.554744  30085.628404   \n",
      "2018-03-04  30868.721163  30599.874189  30330.554744  30085.628404   \n",
      "2018-03-05  30868.721163  30599.874189  30330.554744  30085.628404   \n",
      "2018-03-06  30868.721163  30599.874189  30330.554744  30085.628404   \n",
      "2018-03-07  30868.721163  30599.874189  30330.554744  30085.628404   \n",
      "2018-03-08  30868.721163  30599.874189  30330.554744  30085.628404   \n",
      "2018-03-09  30868.721163  30599.874189  30330.554744  30085.628404   \n",
      "2018-03-10  30868.721163  30599.874189  30330.554744  30085.628404   \n",
      "2018-03-11  30868.721163  30599.874189  30330.554744  30085.628404   \n",
      "2018-03-12  30868.721163  30599.874189  30330.554744  30085.628404   \n",
      "2018-03-13  30868.721163  30599.874189  30330.554744  30085.628404   \n",
      "2018-03-14  30868.721163  30599.874189  30330.554744  30085.628404   \n",
      "2018-03-15  30868.721163  30599.874189  30330.554744  30085.628404   \n",
      "2018-03-16  30868.721163  30599.874189  30330.554744  30085.628404   \n",
      "2018-03-17  30868.721163  30599.874189  30330.554744  30085.628404   \n",
      "2018-03-18  30868.721163  30599.874189  30330.554744  30085.628404   \n",
      "2018-03-19  30868.721163  30599.874189  30330.554744  30085.628404   \n",
      "2018-03-20  30868.721163  30599.874189  30330.554744  30085.628404   \n",
      "2018-03-21  30868.721163  30599.874189  30330.554744  30085.628404   \n",
      "2018-03-22  30868.721163  30599.874189  30330.554744  30085.628404   \n",
      "2018-03-23  30868.721163  30599.874189  30330.554744  30085.628404   \n",
      "2018-03-24  30868.721163  30599.874189  30330.554744  30085.628404   \n",
      "2018-03-25  30868.721163  30599.874189  30330.554744  30085.628404   \n",
      "2018-03-26  30868.721163  30599.874189  30330.554744  30085.628404   \n",
      "2018-03-27  30868.721163  30599.874189  30330.554744  30085.628404   \n",
      "2018-03-28  30868.721163  30599.874189  30330.554744  30085.628404   \n",
      "2018-03-29  30868.721163  30599.874189  30330.554744  30085.628404   \n",
      "2018-03-30  30868.721163  30599.874189  30330.554744  30085.628404   \n",
      "2018-03-31  30868.721163  30599.874189  30330.554744  30085.628404   \n",
      "\n",
      "                t-0 h_20      t-0 h_21      t-0 h_22      t-0 h_23  \n",
      "date                                                                \n",
      "2018-03-02  29882.345891  29730.401999  29632.676558  29586.441937  \n",
      "2018-03-03  29882.345891  29730.401999  29632.676558  29586.441937  \n",
      "2018-03-04  29882.345891  29730.401999  29632.676558  29586.441937  \n",
      "2018-03-05  29882.345891  29730.401999  29632.676558  29586.441937  \n",
      "2018-03-06  29882.345891  29730.401999  29632.676558  29586.441937  \n",
      "2018-03-07  29882.345891  29730.401999  29632.676558  29586.441937  \n",
      "2018-03-08  29882.345891  29730.401999  29632.676558  29586.441937  \n",
      "2018-03-09  29882.345891  29730.401999  29632.676558  29586.441937  \n",
      "2018-03-10  29882.345891  29730.401999  29632.676558  29586.441937  \n",
      "2018-03-11  29882.345891  29730.401999  29632.676558  29586.441937  \n",
      "2018-03-12  29882.345891  29730.401999  29632.676558  29586.441937  \n",
      "2018-03-13  29882.345891  29730.401999  29632.676558  29586.441937  \n",
      "2018-03-14  29882.345891  29730.401999  29632.676558  29586.441937  \n",
      "2018-03-15  29882.345891  29730.401999  29632.676558  29586.441937  \n",
      "2018-03-16  29882.345891  29730.401999  29632.676558  29586.441937  \n",
      "2018-03-17  29882.345891  29730.401999  29632.676558  29586.441937  \n",
      "2018-03-18  29882.345891  29730.401999  29632.676558  29586.441937  \n",
      "2018-03-19  29882.345891  29730.401999  29632.676558  29586.441937  \n",
      "2018-03-20  29882.345891  29730.401999  29632.676558  29586.441937  \n",
      "2018-03-21  29882.345891  29730.401999  29632.676558  29586.441937  \n",
      "2018-03-22  29882.345891  29730.401999  29632.676558  29586.441937  \n",
      "2018-03-23  29882.345891  29730.401999  29632.676558  29586.441937  \n",
      "2018-03-24  29882.345891  29730.401999  29632.676558  29586.441937  \n",
      "2018-03-25  29882.345891  29730.401999  29632.676558  29586.441937  \n",
      "2018-03-26  29882.345891  29730.401999  29632.676558  29586.441937  \n",
      "2018-03-27  29882.345891  29730.401999  29632.676558  29586.441937  \n",
      "2018-03-28  29882.345891  29730.401999  29632.676558  29586.441937  \n",
      "2018-03-29  29882.345891  29730.401999  29632.676558  29586.441937  \n",
      "2018-03-30  29882.345891  29730.401999  29632.676558  29586.441937  \n",
      "2018-03-31  29882.345891  29730.401999  29632.676558  29586.441937  \n",
      "\n",
      "[30 rows x 24 columns]\n"
     ]
    }
   ],
   "source": [
    "#configuration\n",
    "print(scores[0][0])\n",
    "#RMSE total\n",
    "print(scores[0][1])\n",
    "#hourly mean errors\n",
    "print(scores[0][2])\n",
    "#forecasts\n",
    "print(scores[0][3])"
   ]
  },
  {
   "cell_type": "code",
   "execution_count": null,
   "metadata": {},
   "outputs": [],
   "source": []
  },
  {
   "cell_type": "code",
   "execution_count": null,
   "metadata": {},
   "outputs": [],
   "source": []
  },
  {
   "cell_type": "code",
   "execution_count": null,
   "metadata": {},
   "outputs": [],
   "source": []
  },
  {
   "cell_type": "code",
   "execution_count": 13,
   "metadata": {},
   "outputs": [
    {
     "name": "stdout",
     "output_type": "stream",
     "text": [
      "(30, 24)\n",
      "(30, 24)\n",
      "4850.222896510359\n"
     ]
    }
   ],
   "source": [
    "#test slice\n",
    "a, p = train_test_split(data, split_date=split_date)\n",
    "print(p.shape)\n",
    "\n",
    "a=a.iloc[-30:,:]\n",
    "\n",
    "print(a.shape)\n",
    "\n",
    "actual = a.values\n",
    "predicted = p.values\n",
    "\n",
    "s=0\n",
    "for row in range(actual.shape[0]):\n",
    "    for col in range(actual.shape[1]):\n",
    "        s += (actual[row, col] - predicted[row, col])**2\n",
    "error_mean = np.sqrt(s / (actual.shape[0] * actual.shape[1]))\n",
    "print(error_mean)"
   ]
  },
  {
   "cell_type": "code",
   "execution_count": null,
   "metadata": {},
   "outputs": [],
   "source": []
  },
  {
   "cell_type": "code",
   "execution_count": null,
   "metadata": {},
   "outputs": [],
   "source": []
  },
  {
   "cell_type": "markdown",
   "metadata": {},
   "source": [
    "##### Collect scores and save to a csv\n",
    "\n",
    "Before launching the job in the cloud want to be able to save and revisit the results.\n",
    "\n",
    "The scores tuple saves the data in the form (configuration, RMSE, RMSE hourly errors, forecast)."
   ]
  },
  {
   "cell_type": "code",
   "execution_count": 48,
   "metadata": {},
   "outputs": [
    {
     "data": {
      "text/plain": [
       "'[2, 0, 0]'"
      ]
     },
     "execution_count": 48,
     "metadata": {},
     "output_type": "execute_result"
    }
   ],
   "source": [
    "scores[0][0]"
   ]
  },
  {
   "cell_type": "code",
   "execution_count": 46,
   "metadata": {},
   "outputs": [
    {
     "ename": "SyntaxError",
     "evalue": "unexpected EOF while parsing (<ipython-input-46-9f8e2dd6433b>, line 1)",
     "output_type": "error",
     "traceback": [
      "\u001b[0;36m  File \u001b[0;32m\"<ipython-input-46-9f8e2dd6433b>\"\u001b[0;36m, line \u001b[0;32m1\u001b[0m\n\u001b[0;31m    for score in scores[0]:\u001b[0m\n\u001b[0m                           ^\u001b[0m\n\u001b[0;31mSyntaxError\u001b[0m\u001b[0;31m:\u001b[0m unexpected EOF while parsing\n"
     ]
    }
   ],
   "source": [
    "    "
   ]
  },
  {
   "cell_type": "code",
   "execution_count": null,
   "metadata": {},
   "outputs": [],
   "source": []
  },
  {
   "cell_type": "code",
   "execution_count": 30,
   "metadata": {},
   "outputs": [
    {
     "ename": "AttributeError",
     "evalue": "'str' object has no attribute 'flatten'",
     "output_type": "error",
     "traceback": [
      "\u001b[0;31m---------------------------------------------------------------------------\u001b[0m",
      "\u001b[0;31mAttributeError\u001b[0m                            Traceback (most recent call last)",
      "\u001b[0;32m<ipython-input-30-f97b72f14501>\u001b[0m in \u001b[0;36m<module>\u001b[0;34m\u001b[0m\n\u001b[1;32m      1\u001b[0m \u001b[0mscore_vals\u001b[0m \u001b[0;34m=\u001b[0m \u001b[0;34m[\u001b[0m\u001b[0;34m]\u001b[0m\u001b[0;34m\u001b[0m\u001b[0;34m\u001b[0m\u001b[0m\n\u001b[1;32m      2\u001b[0m \u001b[0;32mfor\u001b[0m \u001b[0mscore\u001b[0m \u001b[0;32min\u001b[0m \u001b[0mscores\u001b[0m\u001b[0;34m[\u001b[0m\u001b[0;36m0\u001b[0m\u001b[0;34m]\u001b[0m\u001b[0;34m:\u001b[0m\u001b[0;34m\u001b[0m\u001b[0;34m\u001b[0m\u001b[0m\n\u001b[0;32m----> 3\u001b[0;31m     \u001b[0mprint\u001b[0m\u001b[0;34m(\u001b[0m\u001b[0mscore\u001b[0m\u001b[0;34m.\u001b[0m\u001b[0mflatten\u001b[0m\u001b[0;34m(\u001b[0m\u001b[0;34m)\u001b[0m\u001b[0;34m)\u001b[0m\u001b[0;34m\u001b[0m\u001b[0;34m\u001b[0m\u001b[0m\n\u001b[0m",
      "\u001b[0;31mAttributeError\u001b[0m: 'str' object has no attribute 'flatten'"
     ]
    }
   ],
   "source": [
    "score_vals = []\n",
    "for score in scores[0]:\n",
    "    print(score.flatten())"
   ]
  },
  {
   "cell_type": "code",
   "execution_count": null,
   "metadata": {},
   "outputs": [],
   "source": []
  },
  {
   "cell_type": "code",
   "execution_count": null,
   "metadata": {},
   "outputs": [],
   "source": []
  },
  {
   "cell_type": "code",
   "execution_count": 28,
   "metadata": {},
   "outputs": [
    {
     "data": {
      "text/html": [
       "<div>\n",
       "<style scoped>\n",
       "    .dataframe tbody tr th:only-of-type {\n",
       "        vertical-align: middle;\n",
       "    }\n",
       "\n",
       "    .dataframe tbody tr th {\n",
       "        vertical-align: top;\n",
       "    }\n",
       "\n",
       "    .dataframe thead th {\n",
       "        text-align: right;\n",
       "    }\n",
       "</style>\n",
       "<table border=\"1\" class=\"dataframe\">\n",
       "  <thead>\n",
       "    <tr style=\"text-align: right;\">\n",
       "      <th></th>\n",
       "      <th>&lt;function arima_model at 0x1c201b3378&gt;</th>\n",
       "    </tr>\n",
       "  </thead>\n",
       "  <tbody>\n",
       "    <tr>\n",
       "      <th>0</th>\n",
       "      <td>1663.967815</td>\n",
       "    </tr>\n",
       "    <tr>\n",
       "      <th>1</th>\n",
       "      <td>1600.198211</td>\n",
       "    </tr>\n",
       "    <tr>\n",
       "      <th>2</th>\n",
       "      <td>1817.679205</td>\n",
       "    </tr>\n",
       "  </tbody>\n",
       "</table>\n",
       "</div>"
      ],
      "text/plain": [
       "   <function arima_model at 0x1c201b3378>\n",
       "0                             1663.967815\n",
       "1                             1600.198211\n",
       "2                             1817.679205"
      ]
     },
     "execution_count": 28,
     "metadata": {},
     "output_type": "execute_result"
    }
   ],
   "source": [
    "df=pd.DataFrame(scores)\n"
   ]
  },
  {
   "cell_type": "code",
   "execution_count": 12,
   "metadata": {},
   "outputs": [],
   "source": [
    "df.to_csv('scores.csv')"
   ]
  },
  {
   "cell_type": "code",
   "execution_count": 22,
   "metadata": {},
   "outputs": [
    {
     "data": {
      "text/html": [
       "<div>\n",
       "<style scoped>\n",
       "    .dataframe tbody tr th:only-of-type {\n",
       "        vertical-align: middle;\n",
       "    }\n",
       "\n",
       "    .dataframe tbody tr th {\n",
       "        vertical-align: top;\n",
       "    }\n",
       "\n",
       "    .dataframe thead th {\n",
       "        text-align: right;\n",
       "    }\n",
       "</style>\n",
       "<table border=\"1\" class=\"dataframe\">\n",
       "  <thead>\n",
       "    <tr style=\"text-align: right;\">\n",
       "      <th></th>\n",
       "      <th>Unnamed: 0</th>\n",
       "      <th>0</th>\n",
       "      <th>1</th>\n",
       "      <th>2</th>\n",
       "      <th>3</th>\n",
       "    </tr>\n",
       "  </thead>\n",
       "  <tbody>\n",
       "    <tr>\n",
       "      <th>0</th>\n",
       "      <td>0</td>\n",
       "      <td>[2, 0, 0]</td>\n",
       "      <td>3469.001217</td>\n",
       "      <td>&lt;function arima_model at 0x1c201b3378&gt;\\n0 ...</td>\n",
       "      <td>t-0 h_0       t-0 h_1       t...</td>\n",
       "    </tr>\n",
       "    <tr>\n",
       "      <th>1</th>\n",
       "      <td>1</td>\n",
       "      <td>[2, 0, 1]</td>\n",
       "      <td>3566.013963</td>\n",
       "      <td>&lt;function arima_model at 0x1c201b3378&gt;\\n0 ...</td>\n",
       "      <td>t-0 h_0       t-0 h_1      t-...</td>\n",
       "    </tr>\n",
       "    <tr>\n",
       "      <th>2</th>\n",
       "      <td>2</td>\n",
       "      <td>[2, 0, 2]</td>\n",
       "      <td>3609.247250</td>\n",
       "      <td>&lt;function arima_model at 0x1c201b3378&gt;\\n0 ...</td>\n",
       "      <td>t-0 h_0       t-0 h_1       t-...</td>\n",
       "    </tr>\n",
       "    <tr>\n",
       "      <th>3</th>\n",
       "      <td>3</td>\n",
       "      <td>[2, 2, 2]</td>\n",
       "      <td>3641.295751</td>\n",
       "      <td>&lt;function arima_model at 0x1c201b3378&gt;\\n0 ...</td>\n",
       "      <td>t-0 h_0       t-0 h_1       t...</td>\n",
       "    </tr>\n",
       "    <tr>\n",
       "      <th>4</th>\n",
       "      <td>4</td>\n",
       "      <td>[1, 1, 2]</td>\n",
       "      <td>4185.816708</td>\n",
       "      <td>&lt;function arima_model at 0x1c201b3378&gt;\\n0 ...</td>\n",
       "      <td>t-0 h_0       t-0 h_1       t...</td>\n",
       "    </tr>\n",
       "  </tbody>\n",
       "</table>\n",
       "</div>"
      ],
      "text/plain": [
       "   Unnamed: 0          0            1  \\\n",
       "0           0  [2, 0, 0]  3469.001217   \n",
       "1           1  [2, 0, 1]  3566.013963   \n",
       "2           2  [2, 0, 2]  3609.247250   \n",
       "3           3  [2, 2, 2]  3641.295751   \n",
       "4           4  [1, 1, 2]  4185.816708   \n",
       "\n",
       "                                                   2  \\\n",
       "0      <function arima_model at 0x1c201b3378>\\n0 ...   \n",
       "1      <function arima_model at 0x1c201b3378>\\n0 ...   \n",
       "2      <function arima_model at 0x1c201b3378>\\n0 ...   \n",
       "3      <function arima_model at 0x1c201b3378>\\n0 ...   \n",
       "4      <function arima_model at 0x1c201b3378>\\n0 ...   \n",
       "\n",
       "                                                   3  \n",
       "0                   t-0 h_0       t-0 h_1       t...  \n",
       "1                   t-0 h_0       t-0 h_1      t-...  \n",
       "2                  t-0 h_0       t-0 h_1       t-...  \n",
       "3                   t-0 h_0       t-0 h_1       t...  \n",
       "4                   t-0 h_0       t-0 h_1       t...  "
      ]
     },
     "execution_count": 22,
     "metadata": {},
     "output_type": "execute_result"
    }
   ],
   "source": [
    "from_save=pd.read_csv('./scores.csv')\n",
    "from_save.head()"
   ]
  },
  {
   "cell_type": "code",
   "execution_count": 27,
   "metadata": {},
   "outputs": [
    {
     "data": {
      "text/plain": [
       "'    <function arima_model at 0x1c201b3378>\\n0                              1663.967815\\n1                              1600.198211\\n2                              1817.679205\\n3                              2197.258762\\n4                              2750.776778\\n5                              3155.647141\\n6                              2994.309067\\n7                              3654.317155\\n8                              4461.656393\\n9                              4543.949960\\n10                             4363.701103\\n11                             4133.122377\\n12                             3962.590239\\n13                             3812.757340\\n14                             3381.125475\\n15                             3441.435269\\n16                             3621.707886\\n17                             3683.812241\\n18                             3526.313357\\n19                             3924.400201\\n20                             4616.744906\\n21                             4324.779757\\n22                             2720.704403\\n23                             1836.473462'"
      ]
     },
     "execution_count": 27,
     "metadata": {},
     "output_type": "execute_result"
    }
   ],
   "source": [
    "from_save.iloc[0,3]"
   ]
  },
  {
   "cell_type": "code",
   "execution_count": null,
   "metadata": {},
   "outputs": [],
   "source": []
  },
  {
   "cell_type": "code",
   "execution_count": null,
   "metadata": {},
   "outputs": [],
   "source": []
  },
  {
   "cell_type": "code",
   "execution_count": null,
   "metadata": {},
   "outputs": [],
   "source": []
  },
  {
   "cell_type": "code",
   "execution_count": 71,
   "metadata": {},
   "outputs": [
    {
     "name": "stdout",
     "output_type": "stream",
     "text": [
      "Bad config[1, 2, 1]\n",
      "Bad config[1, 2, 2]\n",
      "Bad config[2, 1, 1]\n",
      "Bad config[2, 1, 2]\n",
      "Bad config[2, 2, 1]\n",
      " Model [1, 1, 1]: [[1664.271544480803]]\n",
      " Model [1, 1, 2]: [[1955.0000429901872]]\n",
      " Model [2, 2, 2]: [[1664.8229369852024]]\n",
      "CPU times: user 216 ms, sys: 88.1 ms, total: 304 ms\n",
      "Wall time: 2min 26s\n",
      "done\n"
     ]
    }
   ],
   "source": [
    "data = get_persistence_dataset(start='2018-01-01', stop='2018-03-31')\n",
    "\n",
    "model = arima_model\n",
    "\n",
    "lags = [1,2]\n",
    "diffs = [1,2]\n",
    "mas = [1,2]\n",
    "\n",
    "cfg_list = arima_configs(lags, diffs, mas)\n",
    "split_date = '2018-03-01'\n",
    "%time scores = grid_search(model, data, cfg_list, split_date, parallel=True)\n",
    "\n",
    "print('done')\n",
    "\n"
   ]
  },
  {
   "cell_type": "code",
   "execution_count": 66,
   "metadata": {},
   "outputs": [
    {
     "data": {
      "text/plain": [
       "('[1, 1, 1]', [[1664.271544480803]],     <function arima_model at 0x1c1bb8f158>\n",
       " 0                              1664.271544\n",
       " 1                              1632.294191\n",
       " 2                              1775.129387\n",
       " 3                              1836.036186\n",
       " 4                              1831.323466\n",
       " 5                              1721.970192\n",
       " 6                              2764.702270\n",
       " 7                              5388.723615\n",
       " 8                              7501.328477\n",
       " 9                              8993.529583\n",
       " 10                             9773.685183\n",
       " 11                            10028.085311\n",
       " 12                             9933.906391\n",
       " 13                             9823.093769\n",
       " 14                             8991.805985\n",
       " 15                             8211.821879\n",
       " 16                             7801.536809\n",
       " 17                             7628.138044\n",
       " 18                             7581.421789\n",
       " 19                             8560.691071\n",
       " 20                             9747.844419\n",
       " 21                             9732.055381\n",
       " 22                             7835.570480\n",
       " 23                             5471.577938,                  t-0 h_0      t-0 h_1       t-0 h_2       t-0 h_3  \\\n",
       " date                                                                \n",
       " 2018-03-02  27037.061502  25822.51397  25059.630605  24580.321167   \n",
       " 2018-03-03  27037.061502  25822.51397  25059.630605  24580.321167   \n",
       " 2018-03-04  27037.061502  25822.51397  25059.630605  24580.321167   \n",
       " 2018-03-05  27037.061502  25822.51397  25059.630605  24580.321167   \n",
       " 2018-03-06  27037.061502  25822.51397  25059.630605  24580.321167   \n",
       " 2018-03-07  27037.061502  25822.51397  25059.630605  24580.321167   \n",
       " 2018-03-08  27037.061502  25822.51397  25059.630605  24580.321167   \n",
       " 2018-03-09  27037.061502  25822.51397  25059.630605  24580.321167   \n",
       " 2018-03-10  27037.061502  25822.51397  25059.630605  24580.321167   \n",
       " 2018-03-11  27037.061502  25822.51397  25059.630605  24580.321167   \n",
       " 2018-03-12  27037.061502  25822.51397  25059.630605  24580.321167   \n",
       " 2018-03-13  27037.061502  25822.51397  25059.630605  24580.321167   \n",
       " 2018-03-14  27037.061502  25822.51397  25059.630605  24580.321167   \n",
       " 2018-03-15  27037.061502  25822.51397  25059.630605  24580.321167   \n",
       " 2018-03-16  27037.061502  25822.51397  25059.630605  24580.321167   \n",
       " 2018-03-17  27037.061502  25822.51397  25059.630605  24580.321167   \n",
       " 2018-03-18  27037.061502  25822.51397  25059.630605  24580.321167   \n",
       " 2018-03-19  27037.061502  25822.51397  25059.630605  24580.321167   \n",
       " 2018-03-20  27037.061502  25822.51397  25059.630605  24580.321167   \n",
       " 2018-03-21  27037.061502  25822.51397  25059.630605  24580.321167   \n",
       " 2018-03-22  27037.061502  25822.51397  25059.630605  24580.321167   \n",
       " 2018-03-23  27037.061502  25822.51397  25059.630605  24580.321167   \n",
       " 2018-03-24  27037.061502  25822.51397  25059.630605  24580.321167   \n",
       " 2018-03-25  27037.061502  25822.51397  25059.630605  24580.321167   \n",
       " 2018-03-26  27037.061502  25822.51397  25059.630605  24580.321167   \n",
       " 2018-03-27  27037.061502  25822.51397  25059.630605  24580.321167   \n",
       " 2018-03-28  27037.061502  25822.51397  25059.630605  24580.321167   \n",
       " 2018-03-29  27037.061502  25822.51397  25059.630605  24580.321167   \n",
       " 2018-03-30  27037.061502  25822.51397  25059.630605  24580.321167   \n",
       " 2018-03-31  27037.061502  25822.51397  25059.630605  24580.321167   \n",
       " \n",
       "                 t-0 h_4       t-0 h_5       t-0 h_6      t-0 h_7  \\\n",
       " date                                                               \n",
       " 2018-03-02  24279.05147  24089.562675  23970.254673  23895.00915   \n",
       " 2018-03-03  24279.05147  24089.562675  23970.254673  23895.00915   \n",
       " 2018-03-04  24279.05147  24089.562675  23970.254673  23895.00915   \n",
       " 2018-03-05  24279.05147  24089.562675  23970.254673  23895.00915   \n",
       " 2018-03-06  24279.05147  24089.562675  23970.254673  23895.00915   \n",
       " 2018-03-07  24279.05147  24089.562675  23970.254673  23895.00915   \n",
       " 2018-03-08  24279.05147  24089.562675  23970.254673  23895.00915   \n",
       " 2018-03-09  24279.05147  24089.562675  23970.254673  23895.00915   \n",
       " 2018-03-10  24279.05147  24089.562675  23970.254673  23895.00915   \n",
       " 2018-03-11  24279.05147  24089.562675  23970.254673  23895.00915   \n",
       " 2018-03-12  24279.05147  24089.562675  23970.254673  23895.00915   \n",
       " 2018-03-13  24279.05147  24089.562675  23970.254673  23895.00915   \n",
       " 2018-03-14  24279.05147  24089.562675  23970.254673  23895.00915   \n",
       " 2018-03-15  24279.05147  24089.562675  23970.254673  23895.00915   \n",
       " 2018-03-16  24279.05147  24089.562675  23970.254673  23895.00915   \n",
       " 2018-03-17  24279.05147  24089.562675  23970.254673  23895.00915   \n",
       " 2018-03-18  24279.05147  24089.562675  23970.254673  23895.00915   \n",
       " 2018-03-19  24279.05147  24089.562675  23970.254673  23895.00915   \n",
       " 2018-03-20  24279.05147  24089.562675  23970.254673  23895.00915   \n",
       " 2018-03-21  24279.05147  24089.562675  23970.254673  23895.00915   \n",
       " 2018-03-22  24279.05147  24089.562675  23970.254673  23895.00915   \n",
       " 2018-03-23  24279.05147  24089.562675  23970.254673  23895.00915   \n",
       " 2018-03-24  24279.05147  24089.562675  23970.254673  23895.00915   \n",
       " 2018-03-25  24279.05147  24089.562675  23970.254673  23895.00915   \n",
       " 2018-03-26  24279.05147  24089.562675  23970.254673  23895.00915   \n",
       " 2018-03-27  24279.05147  24089.562675  23970.254673  23895.00915   \n",
       " 2018-03-28  24279.05147  24089.562675  23970.254673  23895.00915   \n",
       " 2018-03-29  24279.05147  24089.562675  23970.254673  23895.00915   \n",
       " 2018-03-30  24279.05147  24089.562675  23970.254673  23895.00915   \n",
       " 2018-03-31  24279.05147  24089.562675  23970.254673  23895.00915   \n",
       " \n",
       "                  t-0 h_8       t-0 h_9  ...      t-0 h_14      t-0 h_15  \\\n",
       " date                                    ...                               \n",
       " 2018-03-02  23847.427921  23817.215509  ...  23768.051749  23765.346394   \n",
       " 2018-03-03  23847.427921  23817.215509  ...  23768.051749  23765.346394   \n",
       " 2018-03-04  23847.427921  23817.215509  ...  23768.051749  23765.346394   \n",
       " 2018-03-05  23847.427921  23817.215509  ...  23768.051749  23765.346394   \n",
       " 2018-03-06  23847.427921  23817.215509  ...  23768.051749  23765.346394   \n",
       " 2018-03-07  23847.427921  23817.215509  ...  23768.051749  23765.346394   \n",
       " 2018-03-08  23847.427921  23817.215509  ...  23768.051749  23765.346394   \n",
       " 2018-03-09  23847.427921  23817.215509  ...  23768.051749  23765.346394   \n",
       " 2018-03-10  23847.427921  23817.215509  ...  23768.051749  23765.346394   \n",
       " 2018-03-11  23847.427921  23817.215509  ...  23768.051749  23765.346394   \n",
       " 2018-03-12  23847.427921  23817.215509  ...  23768.051749  23765.346394   \n",
       " 2018-03-13  23847.427921  23817.215509  ...  23768.051749  23765.346394   \n",
       " 2018-03-14  23847.427921  23817.215509  ...  23768.051749  23765.346394   \n",
       " 2018-03-15  23847.427921  23817.215509  ...  23768.051749  23765.346394   \n",
       " 2018-03-16  23847.427921  23817.215509  ...  23768.051749  23765.346394   \n",
       " 2018-03-17  23847.427921  23817.215509  ...  23768.051749  23765.346394   \n",
       " 2018-03-18  23847.427921  23817.215509  ...  23768.051749  23765.346394   \n",
       " 2018-03-19  23847.427921  23817.215509  ...  23768.051749  23765.346394   \n",
       " 2018-03-20  23847.427921  23817.215509  ...  23768.051749  23765.346394   \n",
       " 2018-03-21  23847.427921  23817.215509  ...  23768.051749  23765.346394   \n",
       " 2018-03-22  23847.427921  23817.215509  ...  23768.051749  23765.346394   \n",
       " 2018-03-23  23847.427921  23817.215509  ...  23768.051749  23765.346394   \n",
       " 2018-03-24  23847.427921  23817.215509  ...  23768.051749  23765.346394   \n",
       " 2018-03-25  23847.427921  23817.215509  ...  23768.051749  23765.346394   \n",
       " 2018-03-26  23847.427921  23817.215509  ...  23768.051749  23765.346394   \n",
       " 2018-03-27  23847.427921  23817.215509  ...  23768.051749  23765.346394   \n",
       " 2018-03-28  23847.427921  23817.215509  ...  23768.051749  23765.346394   \n",
       " 2018-03-29  23847.427921  23817.215509  ...  23768.051749  23765.346394   \n",
       " 2018-03-30  23847.427921  23817.215509  ...  23768.051749  23765.346394   \n",
       " 2018-03-31  23847.427921  23817.215509  ...  23768.051749  23765.346394   \n",
       " \n",
       "                t-0 h_16      t-0 h_17      t-0 h_18      t-0 h_19  \\\n",
       " date                                                                \n",
       " 2018-03-02  23763.30896  23761.690875  23760.336074  23759.146575   \n",
       " 2018-03-03  23763.30896  23761.690875  23760.336074  23759.146575   \n",
       " 2018-03-04  23763.30896  23761.690875  23760.336074  23759.146575   \n",
       " 2018-03-05  23763.30896  23761.690875  23760.336074  23759.146575   \n",
       " 2018-03-06  23763.30896  23761.690875  23760.336074  23759.146575   \n",
       " 2018-03-07  23763.30896  23761.690875  23760.336074  23759.146575   \n",
       " 2018-03-08  23763.30896  23761.690875  23760.336074  23759.146575   \n",
       " 2018-03-09  23763.30896  23761.690875  23760.336074  23759.146575   \n",
       " 2018-03-10  23763.30896  23761.690875  23760.336074  23759.146575   \n",
       " 2018-03-11  23763.30896  23761.690875  23760.336074  23759.146575   \n",
       " 2018-03-12  23763.30896  23761.690875  23760.336074  23759.146575   \n",
       " 2018-03-13  23763.30896  23761.690875  23760.336074  23759.146575   \n",
       " 2018-03-14  23763.30896  23761.690875  23760.336074  23759.146575   \n",
       " 2018-03-15  23763.30896  23761.690875  23760.336074  23759.146575   \n",
       " 2018-03-16  23763.30896  23761.690875  23760.336074  23759.146575   \n",
       " 2018-03-17  23763.30896  23761.690875  23760.336074  23759.146575   \n",
       " 2018-03-18  23763.30896  23761.690875  23760.336074  23759.146575   \n",
       " 2018-03-19  23763.30896  23761.690875  23760.336074  23759.146575   \n",
       " 2018-03-20  23763.30896  23761.690875  23760.336074  23759.146575   \n",
       " 2018-03-21  23763.30896  23761.690875  23760.336074  23759.146575   \n",
       " 2018-03-22  23763.30896  23761.690875  23760.336074  23759.146575   \n",
       " 2018-03-23  23763.30896  23761.690875  23760.336074  23759.146575   \n",
       " 2018-03-24  23763.30896  23761.690875  23760.336074  23759.146575   \n",
       " 2018-03-25  23763.30896  23761.690875  23760.336074  23759.146575   \n",
       " 2018-03-26  23763.30896  23761.690875  23760.336074  23759.146575   \n",
       " 2018-03-27  23763.30896  23761.690875  23760.336074  23759.146575   \n",
       " 2018-03-28  23763.30896  23761.690875  23760.336074  23759.146575   \n",
       " 2018-03-29  23763.30896  23761.690875  23760.336074  23759.146575   \n",
       " 2018-03-30  23763.30896  23761.690875  23760.336074  23759.146575   \n",
       " 2018-03-31  23763.30896  23761.690875  23760.336074  23759.146575   \n",
       " \n",
       "                t-0 h_20      t-0 h_21      t-0 h_22      t-0 h_23  \n",
       " date                                                               \n",
       " 2018-03-02  23758.06086  23757.040304  23756.060657  23755.106696  \n",
       " 2018-03-03  23758.06086  23757.040304  23756.060657  23755.106696  \n",
       " 2018-03-04  23758.06086  23757.040304  23756.060657  23755.106696  \n",
       " 2018-03-05  23758.06086  23757.040304  23756.060657  23755.106696  \n",
       " 2018-03-06  23758.06086  23757.040304  23756.060657  23755.106696  \n",
       " 2018-03-07  23758.06086  23757.040304  23756.060657  23755.106696  \n",
       " 2018-03-08  23758.06086  23757.040304  23756.060657  23755.106696  \n",
       " 2018-03-09  23758.06086  23757.040304  23756.060657  23755.106696  \n",
       " 2018-03-10  23758.06086  23757.040304  23756.060657  23755.106696  \n",
       " 2018-03-11  23758.06086  23757.040304  23756.060657  23755.106696  \n",
       " 2018-03-12  23758.06086  23757.040304  23756.060657  23755.106696  \n",
       " 2018-03-13  23758.06086  23757.040304  23756.060657  23755.106696  \n",
       " 2018-03-14  23758.06086  23757.040304  23756.060657  23755.106696  \n",
       " 2018-03-15  23758.06086  23757.040304  23756.060657  23755.106696  \n",
       " 2018-03-16  23758.06086  23757.040304  23756.060657  23755.106696  \n",
       " 2018-03-17  23758.06086  23757.040304  23756.060657  23755.106696  \n",
       " 2018-03-18  23758.06086  23757.040304  23756.060657  23755.106696  \n",
       " 2018-03-19  23758.06086  23757.040304  23756.060657  23755.106696  \n",
       " 2018-03-20  23758.06086  23757.040304  23756.060657  23755.106696  \n",
       " 2018-03-21  23758.06086  23757.040304  23756.060657  23755.106696  \n",
       " 2018-03-22  23758.06086  23757.040304  23756.060657  23755.106696  \n",
       " 2018-03-23  23758.06086  23757.040304  23756.060657  23755.106696  \n",
       " 2018-03-24  23758.06086  23757.040304  23756.060657  23755.106696  \n",
       " 2018-03-25  23758.06086  23757.040304  23756.060657  23755.106696  \n",
       " 2018-03-26  23758.06086  23757.040304  23756.060657  23755.106696  \n",
       " 2018-03-27  23758.06086  23757.040304  23756.060657  23755.106696  \n",
       " 2018-03-28  23758.06086  23757.040304  23756.060657  23755.106696  \n",
       " 2018-03-29  23758.06086  23757.040304  23756.060657  23755.106696  \n",
       " 2018-03-30  23758.06086  23757.040304  23756.060657  23755.106696  \n",
       " 2018-03-31  23758.06086  23757.040304  23756.060657  23755.106696  \n",
       " \n",
       " [30 rows x 24 columns])"
      ]
     },
     "execution_count": 66,
     "metadata": {},
     "output_type": "execute_result"
    }
   ],
   "source": [
    "scores[0]"
   ]
  },
  {
   "cell_type": "code",
   "execution_count": null,
   "metadata": {},
   "outputs": [],
   "source": []
  },
  {
   "cell_type": "code",
   "execution_count": null,
   "metadata": {},
   "outputs": [],
   "source": []
  },
  {
   "cell_type": "code",
   "execution_count": null,
   "metadata": {},
   "outputs": [],
   "source": []
  },
  {
   "cell_type": "code",
   "execution_count": null,
   "metadata": {},
   "outputs": [],
   "source": []
  },
  {
   "cell_type": "code",
   "execution_count": null,
   "metadata": {},
   "outputs": [],
   "source": []
  },
  {
   "cell_type": "markdown",
   "metadata": {},
   "source": [
    "###### Time estimation of model computation"
   ]
  },
  {
   "cell_type": "code",
   "execution_count": 16,
   "metadata": {},
   "outputs": [
    {
     "data": {
      "text/plain": [
       "45"
      ]
     },
     "execution_count": 16,
     "metadata": {},
     "output_type": "execute_result"
    }
   ],
   "source": [
    "#### grid search parameters\n",
    "\n",
    "lags = [24, 48, 168]\n",
    "diffs = [0, 24, 168]\n",
    "mas = [0, 2, 3, 12, 24]\n",
    "\n",
    "len(grid_search(lags, diffs, mas))"
   ]
  },
  {
   "cell_type": "code",
   "execution_count": 23,
   "metadata": {},
   "outputs": [
    {
     "name": "stdout",
     "output_type": "stream",
     "text": [
      "CPU times: user 16 µs, sys: 0 ns, total: 16 µs\n",
      "Wall time: 21 µs\n"
     ]
    },
    {
     "data": {
      "text/plain": [
       "[[24, 0, 0],\n",
       " [24, 0, 2],\n",
       " [24, 0, 3],\n",
       " [24, 0, 12],\n",
       " [24, 0, 24],\n",
       " [24, 24, 0],\n",
       " [24, 24, 2],\n",
       " [24, 24, 3],\n",
       " [24, 24, 12],\n",
       " [24, 24, 24],\n",
       " [24, 168, 0],\n",
       " [24, 168, 2],\n",
       " [24, 168, 3],\n",
       " [24, 168, 12],\n",
       " [24, 168, 24],\n",
       " [48, 0, 0],\n",
       " [48, 0, 2],\n",
       " [48, 0, 3],\n",
       " [48, 0, 12],\n",
       " [48, 0, 24],\n",
       " [48, 24, 0],\n",
       " [48, 24, 2],\n",
       " [48, 24, 3],\n",
       " [48, 24, 12],\n",
       " [48, 24, 24],\n",
       " [48, 168, 0],\n",
       " [48, 168, 2],\n",
       " [48, 168, 3],\n",
       " [48, 168, 12],\n",
       " [48, 168, 24],\n",
       " [168, 0, 0],\n",
       " [168, 0, 2],\n",
       " [168, 0, 3],\n",
       " [168, 0, 12],\n",
       " [168, 0, 24],\n",
       " [168, 24, 0],\n",
       " [168, 24, 2],\n",
       " [168, 24, 3],\n",
       " [168, 24, 12],\n",
       " [168, 24, 24],\n",
       " [168, 168, 0],\n",
       " [168, 168, 2],\n",
       " [168, 168, 3],\n",
       " [168, 168, 12],\n",
       " [168, 168, 24]]"
      ]
     },
     "execution_count": 23,
     "metadata": {},
     "output_type": "execute_result"
    }
   ],
   "source": [
    "%time grid_search(lags, diffs, mas)"
   ]
  },
  {
   "cell_type": "code",
   "execution_count": null,
   "metadata": {},
   "outputs": [],
   "source": []
  }
 ],
 "metadata": {
  "kernelspec": {
   "display_name": "Python 3",
   "language": "python",
   "name": "python3"
  },
  "language_info": {
   "codemirror_mode": {
    "name": "ipython",
    "version": 3
   },
   "file_extension": ".py",
   "mimetype": "text/x-python",
   "name": "python",
   "nbconvert_exporter": "python",
   "pygments_lexer": "ipython3",
   "version": "3.6.8"
  }
 },
 "nbformat": 4,
 "nbformat_minor": 2
}
